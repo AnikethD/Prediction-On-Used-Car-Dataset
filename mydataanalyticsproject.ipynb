{
 "cells": [
  {
   "cell_type": "code",
   "execution_count": 1,
   "metadata": {
    "_cell_guid": "b1076dfc-b9ad-4769-8c92-a6c4dae69d19",
    "_uuid": "8f2839f25d086af736a60e9eeb907d3b93b6e0e5",
    "collapsed": true,
    "execution": {
     "iopub.execute_input": "2020-11-30T04:39:51.747660Z",
     "iopub.status.busy": "2020-11-30T04:39:51.746622Z",
     "iopub.status.idle": "2020-11-30T04:39:51.751896Z",
     "shell.execute_reply": "2020-11-30T04:39:51.751046Z"
    },
    "papermill": {
     "duration": 0.073377,
     "end_time": "2020-11-30T04:39:51.752017",
     "exception": false,
     "start_time": "2020-11-30T04:39:51.678640",
     "status": "completed"
    },
    "tags": []
   },
   "outputs": [
    {
     "data": {
      "text/plain": [
       "'\\nDataset : Craigslist Used Car Dataset\\n\\nTeam Members :    1] PES2201800116 : Aniketh D Urs \\n                  2] PES2201800656 : Manoj Mahesh Patil\\n                  3] PES2201800480 : Purushotham S\\n                  4] PES2201800646 : Mahammad Thufail\\n\\nProblem Statement : To predict the price of the used car using Prediction Models that we create.\\n\\nIntroduction : When we want to sell used cars, one of the biggest problems is deciding reasonable selling prices for the cars. \\nAn effective way to solve this problem is to use a machine-learning model that can predict car prices.\\n'"
      ]
     },
     "execution_count": 1,
     "metadata": {},
     "output_type": "execute_result"
    }
   ],
   "source": [
    "'''\n",
    "Dataset : Craigslist Used Car Dataset\n",
    "\n",
    "Team Members :    1] PES2201800116 : Aniketh D Urs \n",
    "                  2] PES2201800656 : Manoj Mahesh Patil\n",
    "                  3] PES2201800480 : Purushotham S\n",
    "                  4] PES2201800646 : Mahammad Thufail\n",
    "\n",
    "Problem Statement : To predict the price of the used car using Prediction Models that we create.\n",
    "\n",
    "Introduction : When we want to sell used cars, one of the biggest problems is deciding reasonable selling prices for the cars. \n",
    "An effective way to solve this problem is to use a machine-learning model that can predict car prices.\n",
    "'''\n",
    "\n"
   ]
  },
  {
   "cell_type": "code",
   "execution_count": 2,
   "metadata": {
    "_cell_guid": "79c7e3d0-c299-4dcb-8224-4455121ee9b0",
    "_uuid": "d629ff2d2480ee46fbb7e2d37f6b5fab8052498a",
    "collapsed": true,
    "execution": {
     "iopub.execute_input": "2020-11-30T04:39:51.938485Z",
     "iopub.status.busy": "2020-11-30T04:39:51.937705Z",
     "iopub.status.idle": "2020-11-30T04:39:51.943843Z",
     "shell.execute_reply": "2020-11-30T04:39:51.943097Z"
    },
    "papermill": {
     "duration": 0.100992,
     "end_time": "2020-11-30T04:39:51.943984",
     "exception": false,
     "start_time": "2020-11-30T04:39:51.842992",
     "status": "completed"
    },
    "tags": []
   },
   "outputs": [
    {
     "data": {
      "text/plain": [
       "'Exploratory Data Analysis and Data Cleaning'"
      ]
     },
     "execution_count": 2,
     "metadata": {},
     "output_type": "execute_result"
    }
   ],
   "source": [
    "'''Exploratory Data Analysis and Data Cleaning'''"
   ]
  },
  {
   "cell_type": "code",
   "execution_count": 3,
   "metadata": {
    "execution": {
     "iopub.execute_input": "2020-11-30T04:39:52.129379Z",
     "iopub.status.busy": "2020-11-30T04:39:52.128635Z",
     "iopub.status.idle": "2020-11-30T04:39:52.132491Z",
     "shell.execute_reply": "2020-11-30T04:39:52.131891Z"
    },
    "papermill": {
     "duration": 0.09844,
     "end_time": "2020-11-30T04:39:52.132587",
     "exception": false,
     "start_time": "2020-11-30T04:39:52.034147",
     "status": "completed"
    },
    "tags": []
   },
   "outputs": [],
   "source": [
    "#First we import Pandas \n",
    "import pandas as pd"
   ]
  },
  {
   "cell_type": "code",
   "execution_count": 4,
   "metadata": {
    "execution": {
     "iopub.execute_input": "2020-11-30T04:39:52.259826Z",
     "iopub.status.busy": "2020-11-30T04:39:52.259196Z",
     "iopub.status.idle": "2020-11-30T04:40:06.970069Z",
     "shell.execute_reply": "2020-11-30T04:40:06.969507Z"
    },
    "papermill": {
     "duration": 14.777171,
     "end_time": "2020-11-30T04:40:06.970177",
     "exception": false,
     "start_time": "2020-11-30T04:39:52.193006",
     "status": "completed"
    },
    "tags": []
   },
   "outputs": [],
   "source": [
    "#Next we import the dataset \n",
    "df_original = pd.read_csv('../input/craigslist-carstrucks-data/vehicles.csv')"
   ]
  },
  {
   "cell_type": "code",
   "execution_count": 5,
   "metadata": {
    "execution": {
     "iopub.execute_input": "2020-11-30T04:40:07.101699Z",
     "iopub.status.busy": "2020-11-30T04:40:07.100779Z",
     "iopub.status.idle": "2020-11-30T04:40:07.247815Z",
     "shell.execute_reply": "2020-11-30T04:40:07.247187Z"
    },
    "papermill": {
     "duration": 0.215294,
     "end_time": "2020-11-30T04:40:07.247930",
     "exception": false,
     "start_time": "2020-11-30T04:40:07.032636",
     "status": "completed"
    },
    "tags": []
   },
   "outputs": [
    {
     "data": {
      "text/html": [
       "<div>\n",
       "<style scoped>\n",
       "    .dataframe tbody tr th:only-of-type {\n",
       "        vertical-align: middle;\n",
       "    }\n",
       "\n",
       "    .dataframe tbody tr th {\n",
       "        vertical-align: top;\n",
       "    }\n",
       "\n",
       "    .dataframe thead th {\n",
       "        text-align: right;\n",
       "    }\n",
       "</style>\n",
       "<table border=\"1\" class=\"dataframe\">\n",
       "  <thead>\n",
       "    <tr style=\"text-align: right;\">\n",
       "      <th></th>\n",
       "      <th>id</th>\n",
       "      <th>url</th>\n",
       "      <th>region</th>\n",
       "      <th>region_url</th>\n",
       "      <th>price</th>\n",
       "      <th>year</th>\n",
       "      <th>manufacturer</th>\n",
       "      <th>model</th>\n",
       "      <th>condition</th>\n",
       "      <th>cylinders</th>\n",
       "      <th>...</th>\n",
       "      <th>drive</th>\n",
       "      <th>size</th>\n",
       "      <th>type</th>\n",
       "      <th>paint_color</th>\n",
       "      <th>image_url</th>\n",
       "      <th>description</th>\n",
       "      <th>county</th>\n",
       "      <th>state</th>\n",
       "      <th>lat</th>\n",
       "      <th>long</th>\n",
       "    </tr>\n",
       "  </thead>\n",
       "  <tbody>\n",
       "    <tr>\n",
       "      <th>0</th>\n",
       "      <td>7184791621</td>\n",
       "      <td>https://duluth.craigslist.org/ctd/d/duluth-200...</td>\n",
       "      <td>duluth / superior</td>\n",
       "      <td>https://duluth.craigslist.org</td>\n",
       "      <td>6995</td>\n",
       "      <td>2000.0</td>\n",
       "      <td>gmc</td>\n",
       "      <td>new sierra 1500</td>\n",
       "      <td>excellent</td>\n",
       "      <td>8 cylinders</td>\n",
       "      <td>...</td>\n",
       "      <td>4wd</td>\n",
       "      <td>NaN</td>\n",
       "      <td>NaN</td>\n",
       "      <td>red</td>\n",
       "      <td>https://images.craigslist.org/00n0n_f06ykBMcdh...</td>\n",
       "      <td>2000 *** GMC New Sierra 1500 Ext Cab 157.5  WB...</td>\n",
       "      <td>NaN</td>\n",
       "      <td>mn</td>\n",
       "      <td>46.8433</td>\n",
       "      <td>-92.2550</td>\n",
       "    </tr>\n",
       "    <tr>\n",
       "      <th>1</th>\n",
       "      <td>7184773187</td>\n",
       "      <td>https://duluth.craigslist.org/cto/d/saginaw-20...</td>\n",
       "      <td>duluth / superior</td>\n",
       "      <td>https://duluth.craigslist.org</td>\n",
       "      <td>8750</td>\n",
       "      <td>2013.0</td>\n",
       "      <td>hyundai</td>\n",
       "      <td>sonata</td>\n",
       "      <td>excellent</td>\n",
       "      <td>4 cylinders</td>\n",
       "      <td>...</td>\n",
       "      <td>fwd</td>\n",
       "      <td>NaN</td>\n",
       "      <td>NaN</td>\n",
       "      <td>grey</td>\n",
       "      <td>https://images.craigslist.org/00d0d_kgZ6xoeRw2...</td>\n",
       "      <td>For Sale:  2013 Hyundai Sonata GLS - $8750.  O...</td>\n",
       "      <td>NaN</td>\n",
       "      <td>mn</td>\n",
       "      <td>46.9074</td>\n",
       "      <td>-92.4638</td>\n",
       "    </tr>\n",
       "    <tr>\n",
       "      <th>2</th>\n",
       "      <td>7193375964</td>\n",
       "      <td>https://newhaven.craigslist.org/cto/d/stratfor...</td>\n",
       "      <td>new haven</td>\n",
       "      <td>https://newhaven.craigslist.org</td>\n",
       "      <td>10900</td>\n",
       "      <td>2013.0</td>\n",
       "      <td>toyota</td>\n",
       "      <td>prius</td>\n",
       "      <td>good</td>\n",
       "      <td>4 cylinders</td>\n",
       "      <td>...</td>\n",
       "      <td>fwd</td>\n",
       "      <td>NaN</td>\n",
       "      <td>NaN</td>\n",
       "      <td>blue</td>\n",
       "      <td>https://images.craigslist.org/00d0d_3sHGxPbY2O...</td>\n",
       "      <td>2013 Prius V Model Two. One owner—must sell my...</td>\n",
       "      <td>NaN</td>\n",
       "      <td>ct</td>\n",
       "      <td>41.1770</td>\n",
       "      <td>-73.1336</td>\n",
       "    </tr>\n",
       "    <tr>\n",
       "      <th>423854</th>\n",
       "      <td>7184805809</td>\n",
       "      <td>https://duluth.craigslist.org/cto/d/duluth-94-...</td>\n",
       "      <td>duluth / superior</td>\n",
       "      <td>https://duluth.craigslist.org</td>\n",
       "      <td>700</td>\n",
       "      <td>1994.0</td>\n",
       "      <td>ford</td>\n",
       "      <td>f-150</td>\n",
       "      <td>fair</td>\n",
       "      <td>6 cylinders</td>\n",
       "      <td>...</td>\n",
       "      <td>rwd</td>\n",
       "      <td>NaN</td>\n",
       "      <td>NaN</td>\n",
       "      <td>green</td>\n",
       "      <td>https://images.craigslist.org/00L0L_2MgECwYWhp...</td>\n",
       "      <td>I'm selling this beautiful old pickup that I j...</td>\n",
       "      <td>NaN</td>\n",
       "      <td>mn</td>\n",
       "      <td>46.7715</td>\n",
       "      <td>-92.1279</td>\n",
       "    </tr>\n",
       "    <tr>\n",
       "      <th>423855</th>\n",
       "      <td>7184791927</td>\n",
       "      <td>https://duluth.craigslist.org/ctd/d/duluth-199...</td>\n",
       "      <td>duluth / superior</td>\n",
       "      <td>https://duluth.craigslist.org</td>\n",
       "      <td>3800</td>\n",
       "      <td>1999.0</td>\n",
       "      <td>lincoln</td>\n",
       "      <td>town car</td>\n",
       "      <td>excellent</td>\n",
       "      <td>8 cylinders</td>\n",
       "      <td>...</td>\n",
       "      <td>rwd</td>\n",
       "      <td>NaN</td>\n",
       "      <td>sedan</td>\n",
       "      <td>NaN</td>\n",
       "      <td>https://images.craigslist.org/00q0q_6msyGUIqK3...</td>\n",
       "      <td>1999 *** Lincoln Town Car 4dr Sdn Signature Se...</td>\n",
       "      <td>NaN</td>\n",
       "      <td>mn</td>\n",
       "      <td>46.8433</td>\n",
       "      <td>-92.2550</td>\n",
       "    </tr>\n",
       "    <tr>\n",
       "      <th>423856</th>\n",
       "      <td>7195109037</td>\n",
       "      <td>https://albuquerque.craigslist.org/ctd/d/albuq...</td>\n",
       "      <td>albuquerque</td>\n",
       "      <td>https://albuquerque.craigslist.org</td>\n",
       "      <td>8650</td>\n",
       "      <td>2015.0</td>\n",
       "      <td>nissan</td>\n",
       "      <td>versa</td>\n",
       "      <td>NaN</td>\n",
       "      <td>NaN</td>\n",
       "      <td>...</td>\n",
       "      <td>fwd</td>\n",
       "      <td>compact</td>\n",
       "      <td>sedan</td>\n",
       "      <td>silver</td>\n",
       "      <td>https://images.craigslist.org/00e0e_aTHizIb1II...</td>\n",
       "      <td>2015 Nissan Versa S     Offered by: Southwest ...</td>\n",
       "      <td>NaN</td>\n",
       "      <td>nm</td>\n",
       "      <td>35.1851</td>\n",
       "      <td>-106.5850</td>\n",
       "    </tr>\n",
       "  </tbody>\n",
       "</table>\n",
       "<p>6 rows × 25 columns</p>\n",
       "</div>"
      ],
      "text/plain": [
       "                id                                                url  \\\n",
       "0       7184791621  https://duluth.craigslist.org/ctd/d/duluth-200...   \n",
       "1       7184773187  https://duluth.craigslist.org/cto/d/saginaw-20...   \n",
       "2       7193375964  https://newhaven.craigslist.org/cto/d/stratfor...   \n",
       "423854  7184805809  https://duluth.craigslist.org/cto/d/duluth-94-...   \n",
       "423855  7184791927  https://duluth.craigslist.org/ctd/d/duluth-199...   \n",
       "423856  7195109037  https://albuquerque.craigslist.org/ctd/d/albuq...   \n",
       "\n",
       "                   region                          region_url  price    year  \\\n",
       "0       duluth / superior       https://duluth.craigslist.org   6995  2000.0   \n",
       "1       duluth / superior       https://duluth.craigslist.org   8750  2013.0   \n",
       "2               new haven     https://newhaven.craigslist.org  10900  2013.0   \n",
       "423854  duluth / superior       https://duluth.craigslist.org    700  1994.0   \n",
       "423855  duluth / superior       https://duluth.craigslist.org   3800  1999.0   \n",
       "423856        albuquerque  https://albuquerque.craigslist.org   8650  2015.0   \n",
       "\n",
       "       manufacturer            model  condition    cylinders  ... drive  \\\n",
       "0               gmc  new sierra 1500  excellent  8 cylinders  ...   4wd   \n",
       "1           hyundai           sonata  excellent  4 cylinders  ...   fwd   \n",
       "2            toyota            prius       good  4 cylinders  ...   fwd   \n",
       "423854         ford            f-150       fair  6 cylinders  ...   rwd   \n",
       "423855      lincoln         town car  excellent  8 cylinders  ...   rwd   \n",
       "423856       nissan            versa        NaN          NaN  ...   fwd   \n",
       "\n",
       "           size   type paint_color  \\\n",
       "0           NaN    NaN         red   \n",
       "1           NaN    NaN        grey   \n",
       "2           NaN    NaN        blue   \n",
       "423854      NaN    NaN       green   \n",
       "423855      NaN  sedan         NaN   \n",
       "423856  compact  sedan      silver   \n",
       "\n",
       "                                                image_url  \\\n",
       "0       https://images.craigslist.org/00n0n_f06ykBMcdh...   \n",
       "1       https://images.craigslist.org/00d0d_kgZ6xoeRw2...   \n",
       "2       https://images.craigslist.org/00d0d_3sHGxPbY2O...   \n",
       "423854  https://images.craigslist.org/00L0L_2MgECwYWhp...   \n",
       "423855  https://images.craigslist.org/00q0q_6msyGUIqK3...   \n",
       "423856  https://images.craigslist.org/00e0e_aTHizIb1II...   \n",
       "\n",
       "                                              description county state  \\\n",
       "0       2000 *** GMC New Sierra 1500 Ext Cab 157.5  WB...    NaN    mn   \n",
       "1       For Sale:  2013 Hyundai Sonata GLS - $8750.  O...    NaN    mn   \n",
       "2       2013 Prius V Model Two. One owner—must sell my...    NaN    ct   \n",
       "423854  I'm selling this beautiful old pickup that I j...    NaN    mn   \n",
       "423855  1999 *** Lincoln Town Car 4dr Sdn Signature Se...    NaN    mn   \n",
       "423856  2015 Nissan Versa S     Offered by: Southwest ...    NaN    nm   \n",
       "\n",
       "            lat      long  \n",
       "0       46.8433  -92.2550  \n",
       "1       46.9074  -92.4638  \n",
       "2       41.1770  -73.1336  \n",
       "423854  46.7715  -92.1279  \n",
       "423855  46.8433  -92.2550  \n",
       "423856  35.1851 -106.5850  \n",
       "\n",
       "[6 rows x 25 columns]"
      ]
     },
     "execution_count": 5,
     "metadata": {},
     "output_type": "execute_result"
    }
   ],
   "source": [
    "#Now , let's look at the contents of our dataset \n",
    "import numpy as np\n",
    "\n",
    "df = df_original.copy()\n",
    "\n",
    "df.iloc[np.r_[0:3, -3:0]]"
   ]
  },
  {
   "cell_type": "code",
   "execution_count": 6,
   "metadata": {
    "collapsed": true,
    "execution": {
     "iopub.execute_input": "2020-11-30T04:40:07.380305Z",
     "iopub.status.busy": "2020-11-30T04:40:07.379422Z",
     "iopub.status.idle": "2020-11-30T04:40:07.384097Z",
     "shell.execute_reply": "2020-11-30T04:40:07.383480Z"
    },
    "papermill": {
     "duration": 0.070434,
     "end_time": "2020-11-30T04:40:07.384199",
     "exception": false,
     "start_time": "2020-11-30T04:40:07.313765",
     "status": "completed"
    },
    "tags": []
   },
   "outputs": [
    {
     "data": {
      "text/plain": [
       "'Cleaning of Dataset'"
      ]
     },
     "execution_count": 6,
     "metadata": {},
     "output_type": "execute_result"
    }
   ],
   "source": [
    "'''Cleaning of Dataset'''"
   ]
  },
  {
   "cell_type": "code",
   "execution_count": 7,
   "metadata": {
    "execution": {
     "iopub.execute_input": "2020-11-30T04:40:07.513745Z",
     "iopub.status.busy": "2020-11-30T04:40:07.513088Z",
     "iopub.status.idle": "2020-11-30T04:40:07.616739Z",
     "shell.execute_reply": "2020-11-30T04:40:07.616203Z"
    },
    "papermill": {
     "duration": 0.170851,
     "end_time": "2020-11-30T04:40:07.616851",
     "exception": false,
     "start_time": "2020-11-30T04:40:07.446000",
     "status": "completed"
    },
    "tags": []
   },
   "outputs": [],
   "source": [
    "irrelevant_cols = ['id', 'url', 'region_url', 'vin', 'image_url', \\\n",
    "                   'description', 'county']\n",
    "\n",
    "df = df.drop(columns=irrelevant_cols)"
   ]
  },
  {
   "cell_type": "code",
   "execution_count": 8,
   "metadata": {
    "execution": {
     "iopub.execute_input": "2020-11-30T04:40:07.825979Z",
     "iopub.status.busy": "2020-11-30T04:40:07.797636Z",
     "iopub.status.idle": "2020-11-30T04:40:07.830526Z",
     "shell.execute_reply": "2020-11-30T04:40:07.829817Z"
    },
    "papermill": {
     "duration": 0.151974,
     "end_time": "2020-11-30T04:40:07.830630",
     "exception": false,
     "start_time": "2020-11-30T04:40:07.678656",
     "status": "completed"
    },
    "tags": []
   },
   "outputs": [],
   "source": [
    "# The \"Price\" column is our target column , so let's move it to the last of the dataset for convinience.\n",
    "col_list = ['price']\n",
    "\n",
    "rearranged_cols = np.hstack((df.columns.difference(col_list, sort=False), col_list))\n",
    "\n",
    "df = df.reindex(columns=rearranged_cols)"
   ]
  },
  {
   "cell_type": "code",
   "execution_count": 9,
   "metadata": {
    "execution": {
     "iopub.execute_input": "2020-11-30T04:40:07.979667Z",
     "iopub.status.busy": "2020-11-30T04:40:07.978863Z",
     "iopub.status.idle": "2020-11-30T04:40:11.081951Z",
     "shell.execute_reply": "2020-11-30T04:40:11.081093Z"
    },
    "papermill": {
     "duration": 3.188872,
     "end_time": "2020-11-30T04:40:11.082102",
     "exception": false,
     "start_time": "2020-11-30T04:40:07.893230",
     "status": "completed"
    },
    "tags": []
   },
   "outputs": [],
   "source": [
    "# Now we will make sure that the string values in the dataset are in lower case and there should be no spaces in between\n",
    "for column in df.columns[1:]:\n",
    "    if df[column].dtype == 'object':\n",
    "        df[column] = df[column].str.lower().str.strip()"
   ]
  },
  {
   "cell_type": "code",
   "execution_count": 10,
   "metadata": {
    "execution": {
     "iopub.execute_input": "2020-11-30T04:40:11.518933Z",
     "iopub.status.busy": "2020-11-30T04:40:11.518330Z",
     "iopub.status.idle": "2020-11-30T04:40:11.568976Z",
     "shell.execute_reply": "2020-11-30T04:40:11.568293Z"
    },
    "papermill": {
     "duration": 0.390746,
     "end_time": "2020-11-30T04:40:11.569100",
     "exception": false,
     "start_time": "2020-11-30T04:40:11.178354",
     "status": "completed"
    },
    "tags": []
   },
   "outputs": [
    {
     "name": "stdout",
     "output_type": "stream",
     "text": [
      "<class 'pandas.core.frame.DataFrame'>\n",
      "RangeIndex: 423857 entries, 0 to 423856\n",
      "Data columns (total 18 columns):\n",
      " #   Column        Non-Null Count   Dtype  \n",
      "---  ------        --------------   -----  \n",
      " 0   region        423857 non-null  object \n",
      " 1   year          328743 non-null  float64\n",
      " 2   manufacturer  313242 non-null  object \n",
      " 3   model         325384 non-null  object \n",
      " 4   condition     176719 non-null  object \n",
      " 5   cylinders     197679 non-null  object \n",
      " 6   fuel          327214 non-null  object \n",
      " 7   odometer      270585 non-null  float64\n",
      " 8   title_status  327759 non-null  object \n",
      " 9   transmission  328065 non-null  object \n",
      " 10  drive         231119 non-null  object \n",
      " 11  size          102627 non-null  object \n",
      " 12  type          241157 non-null  object \n",
      " 13  paint_color   222203 non-null  object \n",
      " 14  state         423857 non-null  object \n",
      " 15  lat           324404 non-null  float64\n",
      " 16  long          324404 non-null  float64\n",
      " 17  price         423857 non-null  int64  \n",
      "dtypes: float64(4), int64(1), object(13)\n",
      "memory usage: 58.2+ MB\n"
     ]
    }
   ],
   "source": [
    "df.info()"
   ]
  },
  {
   "cell_type": "code",
   "execution_count": 11,
   "metadata": {
    "execution": {
     "iopub.execute_input": "2020-11-30T04:40:11.701407Z",
     "iopub.status.busy": "2020-11-30T04:40:11.700576Z",
     "iopub.status.idle": "2020-11-30T04:40:11.704202Z",
     "shell.execute_reply": "2020-11-30T04:40:11.703542Z"
    },
    "papermill": {
     "duration": 0.070799,
     "end_time": "2020-11-30T04:40:11.704359",
     "exception": false,
     "start_time": "2020-11-30T04:40:11.633560",
     "status": "completed"
    },
    "tags": []
   },
   "outputs": [],
   "source": [
    "# As you can see above that some of the columns have been removed and the price column has been moved to the end of the dataset"
   ]
  },
  {
   "cell_type": "code",
   "execution_count": 12,
   "metadata": {
    "execution": {
     "iopub.execute_input": "2020-11-30T04:40:11.898402Z",
     "iopub.status.busy": "2020-11-30T04:40:11.897707Z",
     "iopub.status.idle": "2020-11-30T04:40:11.901344Z",
     "shell.execute_reply": "2020-11-30T04:40:11.900825Z"
    },
    "papermill": {
     "duration": 0.102405,
     "end_time": "2020-11-30T04:40:11.901452",
     "exception": false,
     "start_time": "2020-11-30T04:40:11.799047",
     "status": "completed"
    },
    "tags": []
   },
   "outputs": [],
   "source": [
    "# Now let us visualize these NULL values using graphs "
   ]
  },
  {
   "cell_type": "code",
   "execution_count": 13,
   "metadata": {
    "execution": {
     "iopub.execute_input": "2020-11-30T04:40:12.034335Z",
     "iopub.status.busy": "2020-11-30T04:40:12.033744Z",
     "iopub.status.idle": "2020-11-30T04:40:20.158455Z",
     "shell.execute_reply": "2020-11-30T04:40:20.157808Z"
    },
    "papermill": {
     "duration": 8.193759,
     "end_time": "2020-11-30T04:40:20.158560",
     "exception": false,
     "start_time": "2020-11-30T04:40:11.964801",
     "status": "completed"
    },
    "tags": []
   },
   "outputs": [
    {
     "data": {
      "image/png": "[encoded data removed]",
      "text/plain": [
       "<Figure size 432x288 with 2 Axes>"
      ]
     },
     "metadata": {},
     "output_type": "display_data"
    }
   ],
   "source": [
    "import seaborn as sns\n",
    "import matplotlib.pyplot as plt\n",
    "\n",
    "heat_map = sns.heatmap(df.isnull(), yticklabels=False, cbar=True, cmap='Blues')\n",
    "_ = heat_map.set_xticklabels(heat_map.get_xticklabels(), color='#6eafd7')"
   ]
  },
  {
   "cell_type": "code",
   "execution_count": 14,
   "metadata": {
    "collapsed": true,
    "execution": {
     "iopub.execute_input": "2020-11-30T04:40:20.294062Z",
     "iopub.status.busy": "2020-11-30T04:40:20.293201Z",
     "iopub.status.idle": "2020-11-30T04:40:20.298962Z",
     "shell.execute_reply": "2020-11-30T04:40:20.298302Z"
    },
    "papermill": {
     "duration": 0.074965,
     "end_time": "2020-11-30T04:40:20.299079",
     "exception": false,
     "start_time": "2020-11-30T04:40:20.224114",
     "status": "completed"
    },
    "tags": []
   },
   "outputs": [
    {
     "data": {
      "text/plain": [
       "'\\nMissing values can lead to errors in machine-learning models. To avoid these errors, we can use the following workarounds:\\n         1] Remove selected rows that contain missing values.\\n         2] Replace missing values with estimates by using scikit-learn imputers.\\n\\nAs we want our algorithms to be accurate, we must retain as much of the car data as possible.\\nThis means that we will have to impute many of the missing values.\\nAt the same time, we want to minimize instances of incorrect data.\\nSo, we will delete selected rows as well.\\n'"
      ]
     },
     "execution_count": 14,
     "metadata": {},
     "output_type": "execute_result"
    }
   ],
   "source": [
    "'''\n",
    "Missing values can lead to errors in machine-learning models. To avoid these errors, we can use the following workarounds:\n",
    "         1] Remove selected rows that contain missing values.\n",
    "         2] Replace missing values with estimates by using scikit-learn imputers.\n",
    "\n",
    "As we want our algorithms to be accurate, we must retain as much of the car data as possible.\n",
    "This means that we will have to impute many of the missing values.\n",
    "At the same time, we want to minimize instances of incorrect data.\n",
    "So, we will delete selected rows as well.\n",
    "'''"
   ]
  },
  {
   "cell_type": "code",
   "execution_count": 15,
   "metadata": {
    "collapsed": true,
    "execution": {
     "iopub.execute_input": "2020-11-30T04:40:20.434669Z",
     "iopub.status.busy": "2020-11-30T04:40:20.433848Z",
     "iopub.status.idle": "2020-11-30T04:40:20.439234Z",
     "shell.execute_reply": "2020-11-30T04:40:20.438594Z"
    },
    "papermill": {
     "duration": 0.075682,
     "end_time": "2020-11-30T04:40:20.439361",
     "exception": false,
     "start_time": "2020-11-30T04:40:20.363679",
     "status": "completed"
    },
    "tags": []
   },
   "outputs": [
    {
     "data": {
      "text/plain": [
       "'What are Extra Tree Regressor and Bayesian Ridge ?\\n\\nExtratreesregressor divides a target dataset into smaller subsets. \\nThen, it uses multiple decision trees, or extra trees, on the subsets to determine how various attributes of the dataset interrelate.\\nIt combines the findings of the trees to generate an average value for each null field.\\n\\nUnlike Extratreesregressor, BayesianRidge uses linear regression to determine relationships between variables. \\nBased on these relationships, it generates regularized values for non-null fields.'"
      ]
     },
     "execution_count": 15,
     "metadata": {},
     "output_type": "execute_result"
    }
   ],
   "source": [
    "'''What are Extra Tree Regressor and Bayesian Ridge ?\n",
    "\n",
    "Extratreesregressor divides a target dataset into smaller subsets. \n",
    "Then, it uses multiple decision trees, or extra trees, on the subsets to determine how various attributes of the dataset interrelate.\n",
    "It combines the findings of the trees to generate an average value for each null field.\n",
    "\n",
    "Unlike Extratreesregressor, BayesianRidge uses linear regression to determine relationships between variables. \n",
    "Based on these relationships, it generates regularized values for non-null fields.'''"
   ]
  },
  {
   "cell_type": "code",
   "execution_count": 16,
   "metadata": {
    "execution": {
     "iopub.execute_input": "2020-11-30T04:40:20.575753Z",
     "iopub.status.busy": "2020-11-30T04:40:20.574901Z",
     "iopub.status.idle": "2020-11-30T04:40:20.875838Z",
     "shell.execute_reply": "2020-11-30T04:40:20.875236Z"
    },
    "papermill": {
     "duration": 0.37195,
     "end_time": "2020-11-30T04:40:20.875943",
     "exception": false,
     "start_time": "2020-11-30T04:40:20.503993",
     "status": "completed"
    },
    "tags": []
   },
   "outputs": [],
   "source": [
    "# Now we import necessary modules for ExtraTreeRegressor and Bayesian Ridge\n",
    "import warnings\n",
    "warnings.filterwarnings('ignore')\n",
    "\n",
    "from sklearn.experimental import enable_iterative_imputer\n",
    "\n",
    "from sklearn import preprocessing\n",
    "from sklearn.impute import IterativeImputer\n",
    "from sklearn.linear_model import BayesianRidge\n",
    "from sklearn.ensemble import ExtraTreesRegressor\n",
    "\n",
    "imputers = [\n",
    "    BayesianRidge(),\n",
    "    ExtraTreesRegressor(n_estimators=10, random_state=0),\n",
    "]"
   ]
  },
  {
   "cell_type": "code",
   "execution_count": 17,
   "metadata": {
    "execution": {
     "iopub.execute_input": "2020-11-30T04:40:21.010904Z",
     "iopub.status.busy": "2020-11-30T04:40:21.010194Z",
     "iopub.status.idle": "2020-11-30T04:40:21.013493Z",
     "shell.execute_reply": "2020-11-30T04:40:21.012864Z"
    },
    "papermill": {
     "duration": 0.07291,
     "end_time": "2020-11-30T04:40:21.013589",
     "exception": false,
     "start_time": "2020-11-30T04:40:20.940679",
     "status": "completed"
    },
    "tags": []
   },
   "outputs": [],
   "source": [
    "# Now we divide the columns into 2 groups , i.e categorical and numerical \n",
    "from collections import Counter\n",
    "\n",
    "numerical = ['year', 'odometer', 'lat', 'long']\n",
    "\n",
    "categorical = list((Counter(df.columns) -\\\n",
    "                    Counter(numerical + ['manufacturer', 'model', 'price'])).elements())"
   ]
  },
  {
   "cell_type": "code",
   "execution_count": 18,
   "metadata": {
    "execution": {
     "iopub.execute_input": "2020-11-30T04:40:21.153990Z",
     "iopub.status.busy": "2020-11-30T04:40:21.153182Z",
     "iopub.status.idle": "2020-11-30T04:43:11.590427Z",
     "shell.execute_reply": "2020-11-30T04:43:11.589609Z"
    },
    "papermill": {
     "duration": 170.512477,
     "end_time": "2020-11-30T04:43:11.590553",
     "exception": false,
     "start_time": "2020-11-30T04:40:21.078076",
     "status": "completed"
    },
    "tags": []
   },
   "outputs": [],
   "source": [
    "# First, we will use Extratreesregressor to fill out the null fields of the numerical columns.\n",
    "sr_numerical = df[numerical]\n",
    "imp_numerical = IterativeImputer(imputers[1])\n",
    "imputed_vals = imp_numerical.fit_transform(sr_numerical)\n",
    "df[numerical] = imputed_vals"
   ]
  },
  {
   "cell_type": "code",
   "execution_count": 19,
   "metadata": {
    "execution": {
     "iopub.execute_input": "2020-11-30T04:43:12.035169Z",
     "iopub.status.busy": "2020-11-30T04:43:12.034529Z",
     "iopub.status.idle": "2020-11-30T04:43:12.052757Z",
     "shell.execute_reply": "2020-11-30T04:43:12.052130Z"
    },
    "papermill": {
     "duration": 0.363383,
     "end_time": "2020-11-30T04:43:12.052871",
     "exception": false,
     "start_time": "2020-11-30T04:43:11.689488",
     "status": "completed"
    },
    "tags": []
   },
   "outputs": [
    {
     "data": {
      "text/plain": [
       "year        0\n",
       "odometer    0\n",
       "lat         0\n",
       "long        0\n",
       "dtype: int64"
      ]
     },
     "execution_count": 19,
     "metadata": {},
     "output_type": "execute_result"
    }
   ],
   "source": [
    "# The numerical columns have no NULL vaues in them now \n",
    "df.isnull().sum()[numerical]"
   ]
  },
  {
   "cell_type": "code",
   "execution_count": 20,
   "metadata": {
    "collapsed": true,
    "execution": {
     "iopub.execute_input": "2020-11-30T04:43:12.192360Z",
     "iopub.status.busy": "2020-11-30T04:43:12.191606Z",
     "iopub.status.idle": "2020-11-30T04:43:12.196629Z",
     "shell.execute_reply": "2020-11-30T04:43:12.195956Z"
    },
    "papermill": {
     "duration": 0.076985,
     "end_time": "2020-11-30T04:43:12.196736",
     "exception": false,
     "start_time": "2020-11-30T04:43:12.119751",
     "status": "completed"
    },
    "tags": []
   },
   "outputs": [
    {
     "data": {
      "text/plain": [
       "' Now we will use Bayesian Ridge to remove NULL values in categorical column .\\nBut the algorithm cannot understand the data as it is in string format . \\nSo we have to encode it .\\n'"
      ]
     },
     "execution_count": 20,
     "metadata": {},
     "output_type": "execute_result"
    }
   ],
   "source": [
    "''' Now we will use Bayesian Ridge to remove NULL values in categorical column .\n",
    "But the algorithm cannot understand the data as it is in string format . \n",
    "So we have to encode it .\n",
    "'''"
   ]
  },
  {
   "cell_type": "code",
   "execution_count": 21,
   "metadata": {
    "execution": {
     "iopub.execute_input": "2020-11-30T04:43:12.339182Z",
     "iopub.status.busy": "2020-11-30T04:43:12.338602Z",
     "iopub.status.idle": "2020-11-30T04:43:12.341812Z",
     "shell.execute_reply": "2020-11-30T04:43:12.341326Z"
    },
    "papermill": {
     "duration": 0.076662,
     "end_time": "2020-11-30T04:43:12.341911",
     "exception": false,
     "start_time": "2020-11-30T04:43:12.265249",
     "status": "completed"
    },
    "tags": []
   },
   "outputs": [],
   "source": [
    "def encode(data_col):\n",
    "    #A function that transforms non-null values\n",
    "    vals = np.array(data_col.dropna())\n",
    "    # Reshaping the non-null data of a column\n",
    "    reshaped_data = vals.reshape(-1,1)\n",
    "    # Encoding the reshaped data\n",
    "    encoded_data = encoder.fit_transform(reshaped_data)\n",
    "    # Assigning the encoded values to the corresponding column values\n",
    "    data_col.loc[data_col.notnull()] = np.squeeze(encoded_data)\n",
    "    return data_col"
   ]
  },
  {
   "cell_type": "code",
   "execution_count": 22,
   "metadata": {
    "execution": {
     "iopub.execute_input": "2020-11-30T04:43:12.547505Z",
     "iopub.status.busy": "2020-11-30T04:43:12.493899Z",
     "iopub.status.idle": "2020-11-30T04:43:14.780768Z",
     "shell.execute_reply": "2020-11-30T04:43:14.780211Z"
    },
    "papermill": {
     "duration": 2.373016,
     "end_time": "2020-11-30T04:43:14.780880",
     "exception": false,
     "start_time": "2020-11-30T04:43:12.407864",
     "status": "completed"
    },
    "tags": []
   },
   "outputs": [],
   "source": [
    "# Now let us use the encode function\n",
    "sr_categorical = df[categorical]\n",
    "encoder = preprocessing.LabelEncoder()\n",
    "\n",
    "# Using a for loop to iterate through each categorical column and\n",
    "# filling out its null fields\n",
    "for column in categorical:\n",
    "    encode(sr_categorical[column])\n",
    "    imp_categorical = IterativeImputer(BayesianRidge())\n",
    "    imputed_vals_cat = imp_categorical.fit_transform(sr_categorical[column].values.reshape(-1, 1))\n",
    "    imputed_vals_cat = imputed_vals_cat.astype('int64')\n",
    "    imputed_vals_cat = pd.DataFrame(imputed_vals_cat)\n",
    "    imputed_vals_cat = encoder.inverse_transform(imputed_vals_cat.values.reshape(-1, 1))\n",
    "    sr_categorical[column] = imputed_vals_cat\n",
    "\n",
    "df[categorical]= sr_categorical"
   ]
  },
  {
   "cell_type": "code",
   "execution_count": 23,
   "metadata": {
    "execution": {
     "iopub.execute_input": "2020-11-30T04:43:15.152680Z",
     "iopub.status.busy": "2020-11-30T04:43:15.152039Z",
     "iopub.status.idle": "2020-11-30T04:43:15.169595Z",
     "shell.execute_reply": "2020-11-30T04:43:15.169057Z"
    },
    "papermill": {
     "duration": 0.32063,
     "end_time": "2020-11-30T04:43:15.169693",
     "exception": false,
     "start_time": "2020-11-30T04:43:14.849063",
     "status": "completed"
    },
    "tags": []
   },
   "outputs": [
    {
     "data": {
      "text/plain": [
       "region          0\n",
       "condition       0\n",
       "cylinders       0\n",
       "fuel            0\n",
       "title_status    0\n",
       "transmission    0\n",
       "drive           0\n",
       "size            0\n",
       "type            0\n",
       "paint_color     0\n",
       "state           0\n",
       "dtype: int64"
      ]
     },
     "execution_count": 23,
     "metadata": {},
     "output_type": "execute_result"
    }
   ],
   "source": [
    "# We have successfully removed the null values in the categorical group also.\n",
    "df.isnull().sum()[categorical]"
   ]
  },
  {
   "cell_type": "code",
   "execution_count": 24,
   "metadata": {
    "execution": {
     "iopub.execute_input": "2020-11-30T04:43:15.327317Z",
     "iopub.status.busy": "2020-11-30T04:43:15.326717Z",
     "iopub.status.idle": "2020-11-30T04:43:15.331837Z",
     "shell.execute_reply": "2020-11-30T04:43:15.331243Z"
    },
    "papermill": {
     "duration": 0.094621,
     "end_time": "2020-11-30T04:43:15.331929",
     "exception": false,
     "start_time": "2020-11-30T04:43:15.237308",
     "status": "completed"
    },
    "tags": []
   },
   "outputs": [
    {
     "data": {
      "text/html": [
       "<div>\n",
       "<style scoped>\n",
       "    .dataframe tbody tr th:only-of-type {\n",
       "        vertical-align: middle;\n",
       "    }\n",
       "\n",
       "    .dataframe tbody tr th {\n",
       "        vertical-align: top;\n",
       "    }\n",
       "\n",
       "    .dataframe thead th {\n",
       "        text-align: right;\n",
       "    }\n",
       "</style>\n",
       "<table border=\"1\" class=\"dataframe\">\n",
       "  <thead>\n",
       "    <tr style=\"text-align: right;\">\n",
       "      <th></th>\n",
       "      <th>region</th>\n",
       "      <th>year</th>\n",
       "      <th>manufacturer</th>\n",
       "      <th>model</th>\n",
       "      <th>condition</th>\n",
       "      <th>cylinders</th>\n",
       "      <th>fuel</th>\n",
       "      <th>odometer</th>\n",
       "      <th>title_status</th>\n",
       "      <th>transmission</th>\n",
       "      <th>drive</th>\n",
       "      <th>size</th>\n",
       "      <th>type</th>\n",
       "      <th>paint_color</th>\n",
       "      <th>state</th>\n",
       "      <th>lat</th>\n",
       "      <th>long</th>\n",
       "      <th>price</th>\n",
       "    </tr>\n",
       "  </thead>\n",
       "  <tbody>\n",
       "    <tr>\n",
       "      <th>0</th>\n",
       "      <td>duluth / superior</td>\n",
       "      <td>2000.0</td>\n",
       "      <td>gmc</td>\n",
       "      <td>new sierra 1500</td>\n",
       "      <td>excellent</td>\n",
       "      <td>8 cylinders</td>\n",
       "      <td>gas</td>\n",
       "      <td>167783.0</td>\n",
       "      <td>clean</td>\n",
       "      <td>automatic</td>\n",
       "      <td>4wd</td>\n",
       "      <td>full-size</td>\n",
       "      <td>pickup</td>\n",
       "      <td>red</td>\n",
       "      <td>mn</td>\n",
       "      <td>46.8433</td>\n",
       "      <td>-92.2550</td>\n",
       "      <td>6995</td>\n",
       "    </tr>\n",
       "    <tr>\n",
       "      <th>1</th>\n",
       "      <td>duluth / superior</td>\n",
       "      <td>2013.0</td>\n",
       "      <td>hyundai</td>\n",
       "      <td>sonata</td>\n",
       "      <td>excellent</td>\n",
       "      <td>4 cylinders</td>\n",
       "      <td>gas</td>\n",
       "      <td>90821.0</td>\n",
       "      <td>clean</td>\n",
       "      <td>automatic</td>\n",
       "      <td>fwd</td>\n",
       "      <td>full-size</td>\n",
       "      <td>pickup</td>\n",
       "      <td>grey</td>\n",
       "      <td>mn</td>\n",
       "      <td>46.9074</td>\n",
       "      <td>-92.4638</td>\n",
       "      <td>8750</td>\n",
       "    </tr>\n",
       "    <tr>\n",
       "      <th>2</th>\n",
       "      <td>new haven</td>\n",
       "      <td>2013.0</td>\n",
       "      <td>toyota</td>\n",
       "      <td>prius</td>\n",
       "      <td>good</td>\n",
       "      <td>4 cylinders</td>\n",
       "      <td>hybrid</td>\n",
       "      <td>92800.0</td>\n",
       "      <td>clean</td>\n",
       "      <td>automatic</td>\n",
       "      <td>fwd</td>\n",
       "      <td>full-size</td>\n",
       "      <td>pickup</td>\n",
       "      <td>blue</td>\n",
       "      <td>ct</td>\n",
       "      <td>41.1770</td>\n",
       "      <td>-73.1336</td>\n",
       "      <td>10900</td>\n",
       "    </tr>\n",
       "    <tr>\n",
       "      <th>3</th>\n",
       "      <td>albuquerque</td>\n",
       "      <td>2003.0</td>\n",
       "      <td>mitsubishi</td>\n",
       "      <td>lancer</td>\n",
       "      <td>good</td>\n",
       "      <td>4 cylinders</td>\n",
       "      <td>gas</td>\n",
       "      <td>218500.0</td>\n",
       "      <td>clean</td>\n",
       "      <td>manual</td>\n",
       "      <td>4wd</td>\n",
       "      <td>mid-size</td>\n",
       "      <td>sedan</td>\n",
       "      <td>grey</td>\n",
       "      <td>nm</td>\n",
       "      <td>35.1868</td>\n",
       "      <td>-106.6650</td>\n",
       "      <td>12500</td>\n",
       "    </tr>\n",
       "    <tr>\n",
       "      <th>4</th>\n",
       "      <td>duluth / superior</td>\n",
       "      <td>2007.0</td>\n",
       "      <td>gmc</td>\n",
       "      <td>sierra classic 2500hd</td>\n",
       "      <td>good</td>\n",
       "      <td>8 cylinders</td>\n",
       "      <td>diesel</td>\n",
       "      <td>254217.0</td>\n",
       "      <td>clean</td>\n",
       "      <td>automatic</td>\n",
       "      <td>4wd</td>\n",
       "      <td>full-size</td>\n",
       "      <td>truck</td>\n",
       "      <td>white</td>\n",
       "      <td>mn</td>\n",
       "      <td>45.6836</td>\n",
       "      <td>-92.9648</td>\n",
       "      <td>16995</td>\n",
       "    </tr>\n",
       "  </tbody>\n",
       "</table>\n",
       "</div>"
      ],
      "text/plain": [
       "              region    year manufacturer                  model  condition  \\\n",
       "0  duluth / superior  2000.0          gmc        new sierra 1500  excellent   \n",
       "1  duluth / superior  2013.0      hyundai                 sonata  excellent   \n",
       "2          new haven  2013.0       toyota                  prius       good   \n",
       "3        albuquerque  2003.0   mitsubishi                 lancer       good   \n",
       "4  duluth / superior  2007.0          gmc  sierra classic 2500hd       good   \n",
       "\n",
       "     cylinders    fuel  odometer title_status transmission drive       size  \\\n",
       "0  8 cylinders     gas  167783.0        clean    automatic   4wd  full-size   \n",
       "1  4 cylinders     gas   90821.0        clean    automatic   fwd  full-size   \n",
       "2  4 cylinders  hybrid   92800.0        clean    automatic   fwd  full-size   \n",
       "3  4 cylinders     gas  218500.0        clean       manual   4wd   mid-size   \n",
       "4  8 cylinders  diesel  254217.0        clean    automatic   4wd  full-size   \n",
       "\n",
       "     type paint_color state      lat      long  price  \n",
       "0  pickup         red    mn  46.8433  -92.2550   6995  \n",
       "1  pickup        grey    mn  46.9074  -92.4638   8750  \n",
       "2  pickup        blue    ct  41.1770  -73.1336  10900  \n",
       "3   sedan        grey    nm  35.1868 -106.6650  12500  \n",
       "4   truck       white    mn  45.6836  -92.9648  16995  "
      ]
     },
     "execution_count": 24,
     "metadata": {},
     "output_type": "execute_result"
    }
   ],
   "source": [
    "# Now let us take a peek at our dataset \n",
    "df.head()"
   ]
  },
  {
   "cell_type": "code",
   "execution_count": 25,
   "metadata": {
    "execution": {
     "iopub.execute_input": "2020-11-30T04:43:15.475630Z",
     "iopub.status.busy": "2020-11-30T04:43:15.474924Z",
     "iopub.status.idle": "2020-11-30T04:43:15.702458Z",
     "shell.execute_reply": "2020-11-30T04:43:15.701928Z"
    },
    "papermill": {
     "duration": 0.301856,
     "end_time": "2020-11-30T04:43:15.702567",
     "exception": false,
     "start_time": "2020-11-30T04:43:15.400711",
     "status": "completed"
    },
    "tags": []
   },
   "outputs": [
    {
     "data": {
      "text/html": [
       "<div>\n",
       "<style scoped>\n",
       "    .dataframe tbody tr th:only-of-type {\n",
       "        vertical-align: middle;\n",
       "    }\n",
       "\n",
       "    .dataframe tbody tr th {\n",
       "        vertical-align: top;\n",
       "    }\n",
       "\n",
       "    .dataframe thead th {\n",
       "        text-align: right;\n",
       "    }\n",
       "</style>\n",
       "<table border=\"1\" class=\"dataframe\">\n",
       "  <thead>\n",
       "    <tr style=\"text-align: right;\">\n",
       "      <th></th>\n",
       "      <th>region</th>\n",
       "      <th>manufacturer</th>\n",
       "      <th>model</th>\n",
       "    </tr>\n",
       "  </thead>\n",
       "  <tbody>\n",
       "  </tbody>\n",
       "</table>\n",
       "</div>"
      ],
      "text/plain": [
       "Empty DataFrame\n",
       "Columns: [region, manufacturer, model]\n",
       "Index: []"
      ]
     },
     "execution_count": 25,
     "metadata": {},
     "output_type": "execute_result"
    }
   ],
   "source": [
    "df.loc[:, ['region', 'manufacturer', 'model']]\\\n",
    "[df.model.str.startswith(r'$500', na=False)]"
   ]
  },
  {
   "cell_type": "code",
   "execution_count": 26,
   "metadata": {
    "execution": {
     "iopub.execute_input": "2020-11-30T04:43:15.846823Z",
     "iopub.status.busy": "2020-11-30T04:43:15.846130Z",
     "iopub.status.idle": "2020-11-30T04:43:16.747128Z",
     "shell.execute_reply": "2020-11-30T04:43:16.746222Z"
    },
    "papermill": {
     "duration": 0.976495,
     "end_time": "2020-11-30T04:43:16.747241",
     "exception": false,
     "start_time": "2020-11-30T04:43:15.770746",
     "status": "completed"
    },
    "tags": []
   },
   "outputs": [
    {
     "data": {
      "text/plain": [
       "region             404\n",
       "year               288\n",
       "manufacturer        43\n",
       "model            25919\n",
       "condition            6\n",
       "cylinders            8\n",
       "fuel                 5\n",
       "odometer        115439\n",
       "title_status         6\n",
       "transmission         3\n",
       "drive                3\n",
       "size                 4\n",
       "type                13\n",
       "paint_color         12\n",
       "state               51\n",
       "lat              42366\n",
       "long             42689\n",
       "price            16305\n",
       "dtype: int64"
      ]
     },
     "execution_count": 26,
     "metadata": {},
     "output_type": "execute_result"
    }
   ],
   "source": [
    "# Let us see how many unique values our dataset contains \n",
    "df.apply(pd.Series.nunique)"
   ]
  },
  {
   "cell_type": "code",
   "execution_count": 27,
   "metadata": {
    "execution": {
     "iopub.execute_input": "2020-11-30T04:43:16.897302Z",
     "iopub.status.busy": "2020-11-30T04:43:16.896172Z",
     "iopub.status.idle": "2020-11-30T04:43:21.254919Z",
     "shell.execute_reply": "2020-11-30T04:43:21.254291Z"
    },
    "papermill": {
     "duration": 4.436298,
     "end_time": "2020-11-30T04:43:21.255023",
     "exception": false,
     "start_time": "2020-11-30T04:43:16.818725",
     "status": "completed"
    },
    "tags": []
   },
   "outputs": [],
   "source": [
    "# The dataset is fairly clean now. Let us save it as a CSV file.\n",
    "df.to_csv('vehicles_eda.csv', index=False)"
   ]
  },
  {
   "cell_type": "code",
   "execution_count": 28,
   "metadata": {
    "collapsed": true,
    "execution": {
     "iopub.execute_input": "2020-11-30T04:43:21.404974Z",
     "iopub.status.busy": "2020-11-30T04:43:21.404198Z",
     "iopub.status.idle": "2020-11-30T04:43:21.408643Z",
     "shell.execute_reply": "2020-11-30T04:43:21.408090Z"
    },
    "papermill": {
     "duration": 0.078818,
     "end_time": "2020-11-30T04:43:21.408750",
     "exception": false,
     "start_time": "2020-11-30T04:43:21.329932",
     "status": "completed"
    },
    "tags": []
   },
   "outputs": [
    {
     "data": {
      "text/plain": [
       "'Visualization'"
      ]
     },
     "execution_count": 28,
     "metadata": {},
     "output_type": "execute_result"
    }
   ],
   "source": [
    "'''Visualization'''"
   ]
  },
  {
   "cell_type": "code",
   "execution_count": 29,
   "metadata": {
    "execution": {
     "iopub.execute_input": "2020-11-30T04:43:21.559906Z",
     "iopub.status.busy": "2020-11-30T04:43:21.557876Z",
     "iopub.status.idle": "2020-11-30T04:43:21.562999Z",
     "shell.execute_reply": "2020-11-30T04:43:21.562477Z"
    },
    "papermill": {
     "duration": 0.083337,
     "end_time": "2020-11-30T04:43:21.563105",
     "exception": false,
     "start_time": "2020-11-30T04:43:21.479768",
     "status": "completed"
    },
    "tags": []
   },
   "outputs": [],
   "source": [
    "# We will be using  Seaborn Displot for plotting graphs .\n",
    "# Remember our Target Variable is : \"Price\"\n",
    "sns.set(color_codes=True)\n",
    "sns.set(rc={'figure.figsize':(6,3)})\n",
    "\n",
    "def plot_histogram(col, color_val='#005c9d',\\\n",
    "                   x_label='Price [x10\\u2076 USD]', y_label='Frequency',\\\n",
    "                   title_text='Distribution of car prices'):\n",
    "    sns.distplot(col, kde=False, color=color_val)\n",
    "    \n",
    "    ax = plt.gca()\n",
    "    ax.set_xlabel(x_label)\n",
    "    ax.set_ylabel(y_label)\n",
    "    ax.set_title(title_text)\n",
    "    ax.get_xaxis().get_major_formatter().set_scientific(False)\n",
    "    ax.get_yaxis().get_major_formatter().set_scientific(False)\n",
    "\n",
    "    plt.show()"
   ]
  },
  {
   "cell_type": "code",
   "execution_count": 30,
   "metadata": {
    "execution": {
     "iopub.execute_input": "2020-11-30T04:43:21.709733Z",
     "iopub.status.busy": "2020-11-30T04:43:21.709120Z",
     "iopub.status.idle": "2020-11-30T04:43:22.666837Z",
     "shell.execute_reply": "2020-11-30T04:43:22.666173Z"
    },
    "papermill": {
     "duration": 1.032346,
     "end_time": "2020-11-30T04:43:22.666940",
     "exception": false,
     "start_time": "2020-11-30T04:43:21.634594",
     "status": "completed"
    },
    "tags": []
   },
   "outputs": [],
   "source": [
    "# We will also import the CSV file that we had saved in the previous step.\n",
    "df = pd.read_csv('vehicles_eda.csv')"
   ]
  },
  {
   "cell_type": "code",
   "execution_count": 31,
   "metadata": {
    "execution": {
     "iopub.execute_input": "2020-11-30T04:43:22.813607Z",
     "iopub.status.busy": "2020-11-30T04:43:22.812898Z",
     "iopub.status.idle": "2020-11-30T04:43:23.263000Z",
     "shell.execute_reply": "2020-11-30T04:43:23.263505Z"
    },
    "papermill": {
     "duration": 0.526423,
     "end_time": "2020-11-30T04:43:23.263639",
     "exception": false,
     "start_time": "2020-11-30T04:43:22.737216",
     "status": "completed"
    },
    "tags": []
   },
   "outputs": [
    {
     "data": {
      "image/png": "[encoded data removed]",
      "text/plain": [
       "<Figure size 432x216 with 1 Axes>"
      ]
     },
     "metadata": {},
     "output_type": "display_data"
    }
   ],
   "source": [
    "# Now we plot histogram \n",
    "price_mill = df.price/10**6\n",
    "plot_histogram(price_mill)"
   ]
  },
  {
   "cell_type": "code",
   "execution_count": 32,
   "metadata": {
    "execution": {
     "iopub.execute_input": "2020-11-30T04:43:23.410376Z",
     "iopub.status.busy": "2020-11-30T04:43:23.409698Z",
     "iopub.status.idle": "2020-11-30T04:43:23.413515Z",
     "shell.execute_reply": "2020-11-30T04:43:23.414134Z"
    },
    "papermill": {
     "duration": 0.079001,
     "end_time": "2020-11-30T04:43:23.414325",
     "exception": false,
     "start_time": "2020-11-30T04:43:23.335324",
     "status": "completed"
    },
    "tags": []
   },
   "outputs": [],
   "source": [
    "# The above graph shows that the maximum number of Price values are around zero.\n",
    "# This is because we have taken the range wrong .\n",
    "# So we scale the Price range between USD 0 - 60,000 range "
   ]
  },
  {
   "cell_type": "code",
   "execution_count": 33,
   "metadata": {
    "execution": {
     "iopub.execute_input": "2020-11-30T04:43:23.631423Z",
     "iopub.status.busy": "2020-11-30T04:43:23.630584Z",
     "iopub.status.idle": "2020-11-30T04:43:24.051254Z",
     "shell.execute_reply": "2020-11-30T04:43:24.050661Z"
    },
    "papermill": {
     "duration": 0.531644,
     "end_time": "2020-11-30T04:43:24.051387",
     "exception": false,
     "start_time": "2020-11-30T04:43:23.519743",
     "status": "completed"
    },
    "tags": []
   },
   "outputs": [
    {
     "data": {
      "image/png": "[encoded data removed]",
      "text/plain": [
       "<Figure size 432x216 with 1 Axes>"
      ]
     },
     "metadata": {},
     "output_type": "display_data"
    }
   ],
   "source": [
    "plot_histogram(df.price[df.price<60000])"
   ]
  },
  {
   "cell_type": "code",
   "execution_count": 34,
   "metadata": {
    "execution": {
     "iopub.execute_input": "2020-11-30T04:43:24.242956Z",
     "iopub.status.busy": "2020-11-30T04:43:24.242227Z",
     "iopub.status.idle": "2020-11-30T04:43:24.253843Z",
     "shell.execute_reply": "2020-11-30T04:43:24.253192Z"
    },
    "papermill": {
     "duration": 0.128323,
     "end_time": "2020-11-30T04:43:24.253949",
     "exception": false,
     "start_time": "2020-11-30T04:43:24.125626",
     "status": "completed"
    },
    "tags": []
   },
   "outputs": [
    {
     "name": "stdout",
     "output_type": "stream",
     "text": [
      "Mean: 57794.37477734236\n",
      "\n",
      "Median:  9995.0\n"
     ]
    }
   ],
   "source": [
    "# Apparently a large number of Prices are around 0 . \n",
    "# We calculate the mean , median \n",
    "print('Mean:', df.price.mean())\n",
    "print()\n",
    "print('Median: ', df.price.median())"
   ]
  },
  {
   "cell_type": "code",
   "execution_count": 35,
   "metadata": {
    "execution": {
     "iopub.execute_input": "2020-11-30T04:43:24.404546Z",
     "iopub.status.busy": "2020-11-30T04:43:24.403601Z",
     "iopub.status.idle": "2020-11-30T04:43:24.409912Z",
     "shell.execute_reply": "2020-11-30T04:43:24.409261Z"
    },
    "papermill": {
     "duration": 0.082926,
     "end_time": "2020-11-30T04:43:24.410019",
     "exception": false,
     "start_time": "2020-11-30T04:43:24.327093",
     "status": "completed"
    },
    "tags": []
   },
   "outputs": [
    {
     "name": "stdout",
     "output_type": "stream",
     "text": [
      "Max. price:  3808256046\n"
     ]
    }
   ],
   "source": [
    "print('Max. price: ', df.price.max())"
   ]
  },
  {
   "cell_type": "code",
   "execution_count": 36,
   "metadata": {
    "execution": {
     "iopub.execute_input": "2020-11-30T04:43:24.561349Z",
     "iopub.status.busy": "2020-11-30T04:43:24.560240Z",
     "iopub.status.idle": "2020-11-30T04:43:24.563482Z",
     "shell.execute_reply": "2020-11-30T04:43:24.562800Z"
    },
    "papermill": {
     "duration": 0.079556,
     "end_time": "2020-11-30T04:43:24.563583",
     "exception": false,
     "start_time": "2020-11-30T04:43:24.484027",
     "status": "completed"
    },
    "tags": []
   },
   "outputs": [],
   "source": [
    "# The min value is 0 , whereas the max value , as you can see above is huge !\n",
    "# Why is this ?\n",
    "# This is because of the presence of outliers."
   ]
  },
  {
   "cell_type": "code",
   "execution_count": 37,
   "metadata": {
    "execution": {
     "iopub.execute_input": "2020-11-30T04:43:24.720245Z",
     "iopub.status.busy": "2020-11-30T04:43:24.719181Z",
     "iopub.status.idle": "2020-11-30T04:43:24.752241Z",
     "shell.execute_reply": "2020-11-30T04:43:24.751552Z"
    },
    "papermill": {
     "duration": 0.113597,
     "end_time": "2020-11-30T04:43:24.752402",
     "exception": false,
     "start_time": "2020-11-30T04:43:24.638805",
     "status": "completed"
    },
    "tags": []
   },
   "outputs": [
    {
     "data": {
      "text/html": [
       "<div>\n",
       "<style scoped>\n",
       "    .dataframe tbody tr th:only-of-type {\n",
       "        vertical-align: middle;\n",
       "    }\n",
       "\n",
       "    .dataframe tbody tr th {\n",
       "        vertical-align: top;\n",
       "    }\n",
       "\n",
       "    .dataframe thead th {\n",
       "        text-align: right;\n",
       "    }\n",
       "</style>\n",
       "<table border=\"1\" class=\"dataframe\">\n",
       "  <thead>\n",
       "    <tr style=\"text-align: right;\">\n",
       "      <th></th>\n",
       "      <th>region</th>\n",
       "      <th>year</th>\n",
       "      <th>manufacturer</th>\n",
       "      <th>model</th>\n",
       "      <th>price</th>\n",
       "    </tr>\n",
       "  </thead>\n",
       "  <tbody>\n",
       "    <tr>\n",
       "      <th>300026</th>\n",
       "      <td>flint</td>\n",
       "      <td>2007.00</td>\n",
       "      <td>saturn</td>\n",
       "      <td>aura</td>\n",
       "      <td>3808256046</td>\n",
       "    </tr>\n",
       "    <tr>\n",
       "      <th>207260</th>\n",
       "      <td>modesto</td>\n",
       "      <td>2020.00</td>\n",
       "      <td>gmc</td>\n",
       "      <td>NaN</td>\n",
       "      <td>2808348671</td>\n",
       "    </tr>\n",
       "    <tr>\n",
       "      <th>74638</th>\n",
       "      <td>south florida</td>\n",
       "      <td>2008.62</td>\n",
       "      <td>NaN</td>\n",
       "      <td>NaN</td>\n",
       "      <td>2632269824</td>\n",
       "    </tr>\n",
       "    <tr>\n",
       "      <th>67033</th>\n",
       "      <td>atlanta</td>\n",
       "      <td>2014.00</td>\n",
       "      <td>dodge</td>\n",
       "      <td>dart</td>\n",
       "      <td>2490531375</td>\n",
       "    </tr>\n",
       "    <tr>\n",
       "      <th>83332</th>\n",
       "      <td>new york city</td>\n",
       "      <td>2008.62</td>\n",
       "      <td>NaN</td>\n",
       "      <td>NaN</td>\n",
       "      <td>2039470154</td>\n",
       "    </tr>\n",
       "    <tr>\n",
       "      <th>263247</th>\n",
       "      <td>northwest CT</td>\n",
       "      <td>1948.00</td>\n",
       "      <td>NaN</td>\n",
       "      <td>willys jeepster</td>\n",
       "      <td>1215752191</td>\n",
       "    </tr>\n",
       "    <tr>\n",
       "      <th>349616</th>\n",
       "      <td>greenville / upstate</td>\n",
       "      <td>1951.00</td>\n",
       "      <td>NaN</td>\n",
       "      <td>hudson commodore</td>\n",
       "      <td>999999999</td>\n",
       "    </tr>\n",
       "    <tr>\n",
       "      <th>244265</th>\n",
       "      <td>kansas city, MO</td>\n",
       "      <td>1932.00</td>\n",
       "      <td>ford</td>\n",
       "      <td>roadster</td>\n",
       "      <td>410065408</td>\n",
       "    </tr>\n",
       "    <tr>\n",
       "      <th>360902</th>\n",
       "      <td>tulsa</td>\n",
       "      <td>2021.00</td>\n",
       "      <td>NaN</td>\n",
       "      <td>any and all</td>\n",
       "      <td>200400600</td>\n",
       "    </tr>\n",
       "    <tr>\n",
       "      <th>141162</th>\n",
       "      <td>southwest MN</td>\n",
       "      <td>1985.00</td>\n",
       "      <td>NaN</td>\n",
       "      <td>gmc/chev</td>\n",
       "      <td>200014000</td>\n",
       "    </tr>\n",
       "  </tbody>\n",
       "</table>\n",
       "</div>"
      ],
      "text/plain": [
       "                      region     year manufacturer             model  \\\n",
       "300026                 flint  2007.00       saturn              aura   \n",
       "207260               modesto  2020.00          gmc               NaN   \n",
       "74638          south florida  2008.62          NaN               NaN   \n",
       "67033                atlanta  2014.00        dodge              dart   \n",
       "83332          new york city  2008.62          NaN               NaN   \n",
       "263247          northwest CT  1948.00          NaN   willys jeepster   \n",
       "349616  greenville / upstate  1951.00          NaN  hudson commodore   \n",
       "244265       kansas city, MO  1932.00         ford          roadster   \n",
       "360902                 tulsa  2021.00          NaN       any and all   \n",
       "141162          southwest MN  1985.00          NaN          gmc/chev   \n",
       "\n",
       "             price  \n",
       "300026  3808256046  \n",
       "207260  2808348671  \n",
       "74638   2632269824  \n",
       "67033   2490531375  \n",
       "83332   2039470154  \n",
       "263247  1215752191  \n",
       "349616   999999999  \n",
       "244265   410065408  \n",
       "360902   200400600  \n",
       "141162   200014000  "
      ]
     },
     "execution_count": 37,
     "metadata": {},
     "output_type": "execute_result"
    }
   ],
   "source": [
    "# Let's look at some attributes that are of higher values \n",
    "cols = ['region', 'year', 'manufacturer', 'model', 'price']\n",
    "\n",
    "df.loc[:, cols][df.price>100000].sort_values(by='price', ascending=False).head(10)"
   ]
  },
  {
   "cell_type": "code",
   "execution_count": 38,
   "metadata": {
    "execution": {
     "iopub.execute_input": "2020-11-30T04:43:24.980522Z",
     "iopub.status.busy": "2020-11-30T04:43:24.979766Z",
     "iopub.status.idle": "2020-11-30T04:43:24.983294Z",
     "shell.execute_reply": "2020-11-30T04:43:24.983749Z"
    },
    "papermill": {
     "duration": 0.11845,
     "end_time": "2020-11-30T04:43:24.983880",
     "exception": false,
     "start_time": "2020-11-30T04:43:24.865430",
     "status": "completed"
    },
    "tags": []
   },
   "outputs": [],
   "source": [
    "# As you can see above , the prices of the cars is in Billions , which is impossible.\n",
    "# To remove these outliers we use Inter Quartile Range (IQR)\n",
    "# But to apply IQR , the data should be uniform\n",
    "# But our target columne i.e Price columns is not uniform \n",
    "# So we use Logarithmic Function to bring uniformity and add a modified version of the Price column."
   ]
  },
  {
   "cell_type": "code",
   "execution_count": 39,
   "metadata": {
    "execution": {
     "iopub.execute_input": "2020-11-30T04:43:25.144028Z",
     "iopub.status.busy": "2020-11-30T04:43:25.143439Z",
     "iopub.status.idle": "2020-11-30T04:43:25.170917Z",
     "shell.execute_reply": "2020-11-30T04:43:25.171790Z"
    },
    "papermill": {
     "duration": 0.11343,
     "end_time": "2020-11-30T04:43:25.171970",
     "exception": false,
     "start_time": "2020-11-30T04:43:25.058540",
     "status": "completed"
    },
    "tags": []
   },
   "outputs": [],
   "source": [
    "df.insert(17, 'logprice', np.log1p(df['price']))"
   ]
  },
  {
   "cell_type": "code",
   "execution_count": 40,
   "metadata": {
    "execution": {
     "iopub.execute_input": "2020-11-30T04:43:25.352079Z",
     "iopub.status.busy": "2020-11-30T04:43:25.346578Z",
     "iopub.status.idle": "2020-11-30T04:43:25.858228Z",
     "shell.execute_reply": "2020-11-30T04:43:25.857533Z"
    },
    "papermill": {
     "duration": 0.590723,
     "end_time": "2020-11-30T04:43:25.858393",
     "exception": false,
     "start_time": "2020-11-30T04:43:25.267670",
     "status": "completed"
    },
    "tags": []
   },
   "outputs": [
    {
     "data": {
      "image/png": "[encoded data removed]",
      "text/plain": [
       "<Figure size 432x216 with 1 Axes>"
      ]
     },
     "metadata": {},
     "output_type": "display_data"
    }
   ],
   "source": [
    "# To check whether the column is uniform or not , we plot the graph for the new column i.e \"logprice\"\n",
    "plot_histogram(df.logprice) "
   ]
  },
  {
   "cell_type": "code",
   "execution_count": 41,
   "metadata": {
    "execution": {
     "iopub.execute_input": "2020-11-30T04:43:26.094484Z",
     "iopub.status.busy": "2020-11-30T04:43:26.093832Z",
     "iopub.status.idle": "2020-11-30T04:43:26.597930Z",
     "shell.execute_reply": "2020-11-30T04:43:26.597261Z"
    },
    "papermill": {
     "duration": 0.621055,
     "end_time": "2020-11-30T04:43:26.598037",
     "exception": false,
     "start_time": "2020-11-30T04:43:25.976982",
     "status": "completed"
    },
    "tags": []
   },
   "outputs": [],
   "source": [
    "# Now the data is uniform.\n",
    "# We can now remove the outlier using IQR .\n",
    "# But before that we convert the \"Price\" attribute to string , so that IQR is not applied on that , later we will once again bring it \n",
    "# to int64 format.\n",
    "df['price'] = df.price.astype(str)"
   ]
  },
  {
   "cell_type": "code",
   "execution_count": 42,
   "metadata": {
    "execution": {
     "iopub.execute_input": "2020-11-30T04:43:26.758961Z",
     "iopub.status.busy": "2020-11-30T04:43:26.758241Z",
     "iopub.status.idle": "2020-11-30T04:43:26.843805Z",
     "shell.execute_reply": "2020-11-30T04:43:26.843127Z"
    },
    "papermill": {
     "duration": 0.167963,
     "end_time": "2020-11-30T04:43:26.843917",
     "exception": false,
     "start_time": "2020-11-30T04:43:26.675954",
     "status": "completed"
    },
    "tags": []
   },
   "outputs": [],
   "source": [
    "# Now , we will apply IQR \n",
    "Q1 = df.quantile(0.25)\n",
    "Q3 = df.quantile(0.75)\n",
    "IQR = Q3 - Q1"
   ]
  },
  {
   "cell_type": "code",
   "execution_count": 43,
   "metadata": {
    "execution": {
     "iopub.execute_input": "2020-11-30T04:43:27.003636Z",
     "iopub.status.busy": "2020-11-30T04:43:27.002851Z",
     "iopub.status.idle": "2020-11-30T04:43:27.008461Z",
     "shell.execute_reply": "2020-11-30T04:43:27.007643Z"
    },
    "papermill": {
     "duration": 0.086787,
     "end_time": "2020-11-30T04:43:27.008580",
     "exception": false,
     "start_time": "2020-11-30T04:43:26.921793",
     "status": "completed"
    },
    "tags": []
   },
   "outputs": [
    {
     "data": {
      "text/plain": [
       "year         2008.000000\n",
       "odometer    62150.800000\n",
       "lat            31.662190\n",
       "long         -108.155500\n",
       "logprice        8.411833\n",
       "Name: 0.25, dtype: float64"
      ]
     },
     "execution_count": 43,
     "metadata": {},
     "output_type": "execute_result"
    }
   ],
   "source": [
    "Q1"
   ]
  },
  {
   "cell_type": "code",
   "execution_count": 44,
   "metadata": {
    "execution": {
     "iopub.execute_input": "2020-11-30T04:43:27.218056Z",
     "iopub.status.busy": "2020-11-30T04:43:27.217422Z",
     "iopub.status.idle": "2020-11-30T04:43:27.222092Z",
     "shell.execute_reply": "2020-11-30T04:43:27.221208Z"
    },
    "papermill": {
     "duration": 0.098859,
     "end_time": "2020-11-30T04:43:27.222216",
     "exception": false,
     "start_time": "2020-11-30T04:43:27.123357",
     "status": "completed"
    },
    "tags": []
   },
   "outputs": [
    {
     "data": {
      "text/plain": [
       "year          2015.000000\n",
       "odometer    126817.000000\n",
       "lat             41.589400\n",
       "long           -82.472400\n",
       "logprice         9.851984\n",
       "Name: 0.75, dtype: float64"
      ]
     },
     "execution_count": 44,
     "metadata": {},
     "output_type": "execute_result"
    }
   ],
   "source": [
    "Q3"
   ]
  },
  {
   "cell_type": "code",
   "execution_count": 45,
   "metadata": {
    "execution": {
     "iopub.execute_input": "2020-11-30T04:43:27.458501Z",
     "iopub.status.busy": "2020-11-30T04:43:27.457658Z",
     "iopub.status.idle": "2020-11-30T04:43:27.462527Z",
     "shell.execute_reply": "2020-11-30T04:43:27.462992Z"
    },
    "papermill": {
     "duration": 0.126015,
     "end_time": "2020-11-30T04:43:27.463123",
     "exception": false,
     "start_time": "2020-11-30T04:43:27.337108",
     "status": "completed"
    },
    "tags": []
   },
   "outputs": [
    {
     "data": {
      "text/plain": [
       "year            7.000000\n",
       "odometer    64666.200000\n",
       "lat             9.927210\n",
       "long           25.683100\n",
       "logprice        1.440151\n",
       "dtype: float64"
      ]
     },
     "execution_count": 45,
     "metadata": {},
     "output_type": "execute_result"
    }
   ],
   "source": [
    "IQR"
   ]
  },
  {
   "cell_type": "code",
   "execution_count": 46,
   "metadata": {
    "execution": {
     "iopub.execute_input": "2020-11-30T04:43:27.629489Z",
     "iopub.status.busy": "2020-11-30T04:43:27.628722Z",
     "iopub.status.idle": "2020-11-30T04:43:29.154981Z",
     "shell.execute_reply": "2020-11-30T04:43:29.154219Z"
    },
    "papermill": {
     "duration": 1.614449,
     "end_time": "2020-11-30T04:43:29.155090",
     "exception": false,
     "start_time": "2020-11-30T04:43:27.540641",
     "status": "completed"
    },
    "tags": []
   },
   "outputs": [],
   "source": [
    "# Now we update the dataset , by removing the outliers using IQR \n",
    "df = df[~((df < (Q1 - 1.5 * IQR)) | (df > (Q3 + 1.5 * IQR))).any(axis=1)]"
   ]
  },
  {
   "cell_type": "code",
   "execution_count": 47,
   "metadata": {
    "execution": {
     "iopub.execute_input": "2020-11-30T04:43:29.361720Z",
     "iopub.status.busy": "2020-11-30T04:43:29.361067Z",
     "iopub.status.idle": "2020-11-30T04:43:29.418653Z",
     "shell.execute_reply": "2020-11-30T04:43:29.418110Z"
    },
    "papermill": {
     "duration": 0.184032,
     "end_time": "2020-11-30T04:43:29.418765",
     "exception": false,
     "start_time": "2020-11-30T04:43:29.234733",
     "status": "completed"
    },
    "tags": []
   },
   "outputs": [],
   "source": [
    "# As said earlier , we once again bring back the data type of the \"Price\" attribute to int64 format\n",
    "df['price'] = df.price.astype(np.int64)"
   ]
  },
  {
   "cell_type": "code",
   "execution_count": 48,
   "metadata": {
    "execution": {
     "iopub.execute_input": "2020-11-30T04:43:29.577371Z",
     "iopub.status.busy": "2020-11-30T04:43:29.576644Z",
     "iopub.status.idle": "2020-11-30T04:43:29.581067Z",
     "shell.execute_reply": "2020-11-30T04:43:29.580486Z"
    },
    "papermill": {
     "duration": 0.085163,
     "end_time": "2020-11-30T04:43:29.581158",
     "exception": false,
     "start_time": "2020-11-30T04:43:29.495995",
     "status": "completed"
    },
    "tags": []
   },
   "outputs": [],
   "source": [
    "# As the dataset is quite clean now , we will delete all those car models that appear less than 1000 times.\n",
    "# This step will dramatically reduce the chance of unrealistic model names and manufacturer-model combinations appearing in our dataset. \n",
    "# It will also ensure that the proposed machine-learning models have enough relevant data to understand the interrelations between car attributes or characteristics and their prices.\n"
   ]
  },
  {
   "cell_type": "code",
   "execution_count": 49,
   "metadata": {
    "execution": {
     "iopub.execute_input": "2020-11-30T04:43:29.803234Z",
     "iopub.status.busy": "2020-11-30T04:43:29.765613Z",
     "iopub.status.idle": "2020-11-30T04:43:31.421758Z",
     "shell.execute_reply": "2020-11-30T04:43:31.421201Z"
    },
    "papermill": {
     "duration": 1.760893,
     "end_time": "2020-11-30T04:43:31.421885",
     "exception": false,
     "start_time": "2020-11-30T04:43:29.660992",
     "status": "completed"
    },
    "tags": []
   },
   "outputs": [],
   "source": [
    "df = df.groupby(\"model\").filter(lambda x: len(x) >= 1000)\n",
    "df.reset_index(drop=True, inplace=True)"
   ]
  },
  {
   "cell_type": "code",
   "execution_count": 50,
   "metadata": {
    "execution": {
     "iopub.execute_input": "2020-11-30T04:43:31.585058Z",
     "iopub.status.busy": "2020-11-30T04:43:31.582565Z",
     "iopub.status.idle": "2020-11-30T04:43:31.648648Z",
     "shell.execute_reply": "2020-11-30T04:43:31.647757Z"
    },
    "papermill": {
     "duration": 0.149517,
     "end_time": "2020-11-30T04:43:31.648778",
     "exception": false,
     "start_time": "2020-11-30T04:43:31.499261",
     "status": "completed"
    },
    "tags": []
   },
   "outputs": [],
   "source": [
    "# Next , we will fill the missing values of manufacturer column with the mode of that column i.e most occuring value.\n",
    "df['manufacturer'] = df.groupby('model').manufacturer.transform(\n",
    "    lambda x: x.fillna(x.mode()[0])\n",
    ")"
   ]
  },
  {
   "cell_type": "code",
   "execution_count": 51,
   "metadata": {
    "execution": {
     "iopub.execute_input": "2020-11-30T04:43:31.890261Z",
     "iopub.status.busy": "2020-11-30T04:43:31.889646Z",
     "iopub.status.idle": "2020-11-30T04:43:31.940462Z",
     "shell.execute_reply": "2020-11-30T04:43:31.939816Z"
    },
    "papermill": {
     "duration": 0.172712,
     "end_time": "2020-11-30T04:43:31.940568",
     "exception": false,
     "start_time": "2020-11-30T04:43:31.767856",
     "status": "completed"
    },
    "tags": []
   },
   "outputs": [],
   "source": [
    "# Next, let us sort the dataset and browse through some of its rows.\n",
    "df.sort_values(by=['year','manufacturer', 'price'], inplace=True)\n",
    "df.reset_index(drop=True, inplace=True)"
   ]
  },
  {
   "cell_type": "code",
   "execution_count": 52,
   "metadata": {
    "execution": {
     "iopub.execute_input": "2020-11-30T04:43:32.122512Z",
     "iopub.status.busy": "2020-11-30T04:43:32.121686Z",
     "iopub.status.idle": "2020-11-30T04:43:32.127177Z",
     "shell.execute_reply": "2020-11-30T04:43:32.126681Z"
    },
    "papermill": {
     "duration": 0.109187,
     "end_time": "2020-11-30T04:43:32.127305",
     "exception": false,
     "start_time": "2020-11-30T04:43:32.018118",
     "status": "completed"
    },
    "tags": []
   },
   "outputs": [
    {
     "data": {
      "text/html": [
       "<div>\n",
       "<style scoped>\n",
       "    .dataframe tbody tr th:only-of-type {\n",
       "        vertical-align: middle;\n",
       "    }\n",
       "\n",
       "    .dataframe tbody tr th {\n",
       "        vertical-align: top;\n",
       "    }\n",
       "\n",
       "    .dataframe thead th {\n",
       "        text-align: right;\n",
       "    }\n",
       "</style>\n",
       "<table border=\"1\" class=\"dataframe\">\n",
       "  <thead>\n",
       "    <tr style=\"text-align: right;\">\n",
       "      <th></th>\n",
       "      <th>region</th>\n",
       "      <th>year</th>\n",
       "      <th>manufacturer</th>\n",
       "      <th>model</th>\n",
       "      <th>condition</th>\n",
       "      <th>cylinders</th>\n",
       "      <th>fuel</th>\n",
       "      <th>odometer</th>\n",
       "      <th>title_status</th>\n",
       "      <th>transmission</th>\n",
       "      <th>drive</th>\n",
       "      <th>size</th>\n",
       "      <th>type</th>\n",
       "      <th>paint_color</th>\n",
       "      <th>state</th>\n",
       "      <th>lat</th>\n",
       "      <th>long</th>\n",
       "      <th>logprice</th>\n",
       "      <th>price</th>\n",
       "    </tr>\n",
       "  </thead>\n",
       "  <tbody>\n",
       "    <tr>\n",
       "      <th>0</th>\n",
       "      <td>worcester / central MA</td>\n",
       "      <td>1998.0</td>\n",
       "      <td>chevrolet</td>\n",
       "      <td>silverado 1500</td>\n",
       "      <td>fair</td>\n",
       "      <td>5 cylinders</td>\n",
       "      <td>gas</td>\n",
       "      <td>133823.000000</td>\n",
       "      <td>clean</td>\n",
       "      <td>automatic</td>\n",
       "      <td>4wd</td>\n",
       "      <td>full-size</td>\n",
       "      <td>pickup</td>\n",
       "      <td>grey</td>\n",
       "      <td>ma</td>\n",
       "      <td>42.6844</td>\n",
       "      <td>-71.4204</td>\n",
       "      <td>6.685861</td>\n",
       "      <td>800</td>\n",
       "    </tr>\n",
       "    <tr>\n",
       "      <th>1</th>\n",
       "      <td>green bay</td>\n",
       "      <td>1998.0</td>\n",
       "      <td>chevrolet</td>\n",
       "      <td>1500</td>\n",
       "      <td>fair</td>\n",
       "      <td>6 cylinders</td>\n",
       "      <td>gas</td>\n",
       "      <td>180000.000000</td>\n",
       "      <td>clean</td>\n",
       "      <td>manual</td>\n",
       "      <td>4wd</td>\n",
       "      <td>full-size</td>\n",
       "      <td>pickup</td>\n",
       "      <td>grey</td>\n",
       "      <td>wi</td>\n",
       "      <td>44.7046</td>\n",
       "      <td>-87.3968</td>\n",
       "      <td>6.908755</td>\n",
       "      <td>1000</td>\n",
       "    </tr>\n",
       "    <tr>\n",
       "      <th>2</th>\n",
       "      <td>reading</td>\n",
       "      <td>1998.0</td>\n",
       "      <td>chevrolet</td>\n",
       "      <td>tahoe</td>\n",
       "      <td>good</td>\n",
       "      <td>5 cylinders</td>\n",
       "      <td>gas</td>\n",
       "      <td>218000.000000</td>\n",
       "      <td>clean</td>\n",
       "      <td>automatic</td>\n",
       "      <td>4wd</td>\n",
       "      <td>full-size</td>\n",
       "      <td>pickup</td>\n",
       "      <td>red</td>\n",
       "      <td>pa</td>\n",
       "      <td>40.3274</td>\n",
       "      <td>-75.7311</td>\n",
       "      <td>7.048386</td>\n",
       "      <td>1150</td>\n",
       "    </tr>\n",
       "    <tr>\n",
       "      <th>65989</th>\n",
       "      <td>north jersey</td>\n",
       "      <td>2021.0</td>\n",
       "      <td>honda</td>\n",
       "      <td>accord</td>\n",
       "      <td>new</td>\n",
       "      <td>5 cylinders</td>\n",
       "      <td>gas</td>\n",
       "      <td>1411.600000</td>\n",
       "      <td>clean</td>\n",
       "      <td>automatic</td>\n",
       "      <td>4wd</td>\n",
       "      <td>full-size</td>\n",
       "      <td>pickup</td>\n",
       "      <td>grey</td>\n",
       "      <td>nj</td>\n",
       "      <td>40.8789</td>\n",
       "      <td>-74.1425</td>\n",
       "      <td>6.908755</td>\n",
       "      <td>1000</td>\n",
       "    </tr>\n",
       "    <tr>\n",
       "      <th>65990</th>\n",
       "      <td>greenville / upstate</td>\n",
       "      <td>2021.0</td>\n",
       "      <td>toyota</td>\n",
       "      <td>corolla</td>\n",
       "      <td>new</td>\n",
       "      <td>5 cylinders</td>\n",
       "      <td>gas</td>\n",
       "      <td>0.000000</td>\n",
       "      <td>clean</td>\n",
       "      <td>automatic</td>\n",
       "      <td>fwd</td>\n",
       "      <td>full-size</td>\n",
       "      <td>pickup</td>\n",
       "      <td>white</td>\n",
       "      <td>sc</td>\n",
       "      <td>34.9352</td>\n",
       "      <td>-81.9654</td>\n",
       "      <td>10.041073</td>\n",
       "      <td>22949</td>\n",
       "    </tr>\n",
       "    <tr>\n",
       "      <th>65991</th>\n",
       "      <td>plattsburgh-adirondacks</td>\n",
       "      <td>2021.0</td>\n",
       "      <td>volkswagen</td>\n",
       "      <td>jetta</td>\n",
       "      <td>good</td>\n",
       "      <td>4 cylinders</td>\n",
       "      <td>gas</td>\n",
       "      <td>2453.166667</td>\n",
       "      <td>clean</td>\n",
       "      <td>manual</td>\n",
       "      <td>fwd</td>\n",
       "      <td>compact</td>\n",
       "      <td>pickup</td>\n",
       "      <td>blue</td>\n",
       "      <td>ny</td>\n",
       "      <td>44.2958</td>\n",
       "      <td>-74.0006</td>\n",
       "      <td>7.313887</td>\n",
       "      <td>1500</td>\n",
       "    </tr>\n",
       "  </tbody>\n",
       "</table>\n",
       "</div>"
      ],
      "text/plain": [
       "                        region    year manufacturer           model condition  \\\n",
       "0       worcester / central MA  1998.0    chevrolet  silverado 1500      fair   \n",
       "1                    green bay  1998.0    chevrolet            1500      fair   \n",
       "2                      reading  1998.0    chevrolet           tahoe      good   \n",
       "65989             north jersey  2021.0        honda          accord       new   \n",
       "65990     greenville / upstate  2021.0       toyota         corolla       new   \n",
       "65991  plattsburgh-adirondacks  2021.0   volkswagen           jetta      good   \n",
       "\n",
       "         cylinders fuel       odometer title_status transmission drive  \\\n",
       "0      5 cylinders  gas  133823.000000        clean    automatic   4wd   \n",
       "1      6 cylinders  gas  180000.000000        clean       manual   4wd   \n",
       "2      5 cylinders  gas  218000.000000        clean    automatic   4wd   \n",
       "65989  5 cylinders  gas    1411.600000        clean    automatic   4wd   \n",
       "65990  5 cylinders  gas       0.000000        clean    automatic   fwd   \n",
       "65991  4 cylinders  gas    2453.166667        clean       manual   fwd   \n",
       "\n",
       "            size    type paint_color state      lat     long   logprice  price  \n",
       "0      full-size  pickup        grey    ma  42.6844 -71.4204   6.685861    800  \n",
       "1      full-size  pickup        grey    wi  44.7046 -87.3968   6.908755   1000  \n",
       "2      full-size  pickup         red    pa  40.3274 -75.7311   7.048386   1150  \n",
       "65989  full-size  pickup        grey    nj  40.8789 -74.1425   6.908755   1000  \n",
       "65990  full-size  pickup       white    sc  34.9352 -81.9654  10.041073  22949  \n",
       "65991    compact  pickup        blue    ny  44.2958 -74.0006   7.313887   1500  "
      ]
     },
     "execution_count": 52,
     "metadata": {},
     "output_type": "execute_result"
    }
   ],
   "source": [
    "df.iloc[np.r_[0:3, -3:0]]"
   ]
  },
  {
   "cell_type": "code",
   "execution_count": 53,
   "metadata": {
    "execution": {
     "iopub.execute_input": "2020-11-30T04:43:32.328436Z",
     "iopub.status.busy": "2020-11-30T04:43:32.291764Z",
     "iopub.status.idle": "2020-11-30T04:43:32.342793Z",
     "shell.execute_reply": "2020-11-30T04:43:32.342248Z"
    },
    "papermill": {
     "duration": 0.13541,
     "end_time": "2020-11-30T04:43:32.342903",
     "exception": false,
     "start_time": "2020-11-30T04:43:32.207493",
     "status": "completed"
    },
    "tags": []
   },
   "outputs": [
    {
     "name": "stdout",
     "output_type": "stream",
     "text": [
      "<class 'pandas.core.frame.DataFrame'>\n",
      "RangeIndex: 65992 entries, 0 to 65991\n",
      "Data columns (total 19 columns):\n",
      " #   Column        Non-Null Count  Dtype  \n",
      "---  ------        --------------  -----  \n",
      " 0   region        65992 non-null  object \n",
      " 1   year          65992 non-null  float64\n",
      " 2   manufacturer  65992 non-null  object \n",
      " 3   model         65992 non-null  object \n",
      " 4   condition     65992 non-null  object \n",
      " 5   cylinders     65992 non-null  object \n",
      " 6   fuel          65992 non-null  object \n",
      " 7   odometer      65992 non-null  float64\n",
      " 8   title_status  65992 non-null  object \n",
      " 9   transmission  65992 non-null  object \n",
      " 10  drive         65992 non-null  object \n",
      " 11  size          65992 non-null  object \n",
      " 12  type          65992 non-null  object \n",
      " 13  paint_color   65992 non-null  object \n",
      " 14  state         65992 non-null  object \n",
      " 15  lat           65992 non-null  float64\n",
      " 16  long          65992 non-null  float64\n",
      " 17  logprice      65992 non-null  float64\n",
      " 18  price         65992 non-null  int64  \n",
      "dtypes: float64(5), int64(1), object(13)\n",
      "memory usage: 9.6+ MB\n"
     ]
    }
   ],
   "source": [
    "# The structure and standard summary statistics of the updated dataset are as follows: \n",
    "df.info()"
   ]
  },
  {
   "cell_type": "code",
   "execution_count": 54,
   "metadata": {
    "execution": {
     "iopub.execute_input": "2020-11-30T04:43:32.511880Z",
     "iopub.status.busy": "2020-11-30T04:43:32.510717Z",
     "iopub.status.idle": "2020-11-30T04:43:32.545648Z",
     "shell.execute_reply": "2020-11-30T04:43:32.546305Z"
    },
    "papermill": {
     "duration": 0.123024,
     "end_time": "2020-11-30T04:43:32.546468",
     "exception": false,
     "start_time": "2020-11-30T04:43:32.423444",
     "status": "completed"
    },
    "tags": []
   },
   "outputs": [
    {
     "data": {
      "text/html": [
       "<div>\n",
       "<style scoped>\n",
       "    .dataframe tbody tr th:only-of-type {\n",
       "        vertical-align: middle;\n",
       "    }\n",
       "\n",
       "    .dataframe tbody tr th {\n",
       "        vertical-align: top;\n",
       "    }\n",
       "\n",
       "    .dataframe thead th {\n",
       "        text-align: right;\n",
       "    }\n",
       "</style>\n",
       "<table border=\"1\" class=\"dataframe\">\n",
       "  <thead>\n",
       "    <tr style=\"text-align: right;\">\n",
       "      <th></th>\n",
       "      <th>year</th>\n",
       "      <th>odometer</th>\n",
       "      <th>lat</th>\n",
       "      <th>long</th>\n",
       "      <th>logprice</th>\n",
       "      <th>price</th>\n",
       "    </tr>\n",
       "  </thead>\n",
       "  <tbody>\n",
       "    <tr>\n",
       "      <th>count</th>\n",
       "      <td>65992.000000</td>\n",
       "      <td>65992.000000</td>\n",
       "      <td>65992.000000</td>\n",
       "      <td>65992.000000</td>\n",
       "      <td>65992.000000</td>\n",
       "      <td>65992.000000</td>\n",
       "    </tr>\n",
       "    <tr>\n",
       "      <th>mean</th>\n",
       "      <td>2012.124029</td>\n",
       "      <td>100103.592583</td>\n",
       "      <td>38.604673</td>\n",
       "      <td>-92.370083</td>\n",
       "      <td>9.301889</td>\n",
       "      <td>14559.900306</td>\n",
       "    </tr>\n",
       "    <tr>\n",
       "      <th>std</th>\n",
       "      <td>4.962166</td>\n",
       "      <td>54240.935438</td>\n",
       "      <td>5.107826</td>\n",
       "      <td>15.487139</td>\n",
       "      <td>0.808310</td>\n",
       "      <td>10848.695558</td>\n",
       "    </tr>\n",
       "    <tr>\n",
       "      <th>min</th>\n",
       "      <td>1998.000000</td>\n",
       "      <td>0.000000</td>\n",
       "      <td>16.940100</td>\n",
       "      <td>-145.460000</td>\n",
       "      <td>6.251904</td>\n",
       "      <td>518.000000</td>\n",
       "    </tr>\n",
       "    <tr>\n",
       "      <th>25%</th>\n",
       "      <td>2009.000000</td>\n",
       "      <td>54645.000000</td>\n",
       "      <td>35.283400</td>\n",
       "      <td>-98.471200</td>\n",
       "      <td>8.824825</td>\n",
       "      <td>6800.000000</td>\n",
       "    </tr>\n",
       "    <tr>\n",
       "      <th>50%</th>\n",
       "      <td>2013.000000</td>\n",
       "      <td>101074.500000</td>\n",
       "      <td>39.374350</td>\n",
       "      <td>-87.889800</td>\n",
       "      <td>9.391828</td>\n",
       "      <td>11989.000000</td>\n",
       "    </tr>\n",
       "    <tr>\n",
       "      <th>75%</th>\n",
       "      <td>2016.000000</td>\n",
       "      <td>140475.750000</td>\n",
       "      <td>42.449000</td>\n",
       "      <td>-81.281850</td>\n",
       "      <td>9.851984</td>\n",
       "      <td>18995.000000</td>\n",
       "    </tr>\n",
       "    <tr>\n",
       "      <th>max</th>\n",
       "      <td>2021.000000</td>\n",
       "      <td>223814.000000</td>\n",
       "      <td>52.737800</td>\n",
       "      <td>-67.483200</td>\n",
       "      <td>11.982742</td>\n",
       "      <td>159969.000000</td>\n",
       "    </tr>\n",
       "  </tbody>\n",
       "</table>\n",
       "</div>"
      ],
      "text/plain": [
       "               year       odometer           lat          long      logprice  \\\n",
       "count  65992.000000   65992.000000  65992.000000  65992.000000  65992.000000   \n",
       "mean    2012.124029  100103.592583     38.604673    -92.370083      9.301889   \n",
       "std        4.962166   54240.935438      5.107826     15.487139      0.808310   \n",
       "min     1998.000000       0.000000     16.940100   -145.460000      6.251904   \n",
       "25%     2009.000000   54645.000000     35.283400    -98.471200      8.824825   \n",
       "50%     2013.000000  101074.500000     39.374350    -87.889800      9.391828   \n",
       "75%     2016.000000  140475.750000     42.449000    -81.281850      9.851984   \n",
       "max     2021.000000  223814.000000     52.737800    -67.483200     11.982742   \n",
       "\n",
       "               price  \n",
       "count   65992.000000  \n",
       "mean    14559.900306  \n",
       "std     10848.695558  \n",
       "min       518.000000  \n",
       "25%      6800.000000  \n",
       "50%     11989.000000  \n",
       "75%     18995.000000  \n",
       "max    159969.000000  "
      ]
     },
     "execution_count": 54,
     "metadata": {},
     "output_type": "execute_result"
    }
   ],
   "source": [
    "df.describe()"
   ]
  },
  {
   "cell_type": "code",
   "execution_count": 55,
   "metadata": {
    "execution": {
     "iopub.execute_input": "2020-11-30T04:43:32.796582Z",
     "iopub.status.busy": "2020-11-30T04:43:32.795628Z",
     "iopub.status.idle": "2020-11-30T04:43:32.803096Z",
     "shell.execute_reply": "2020-11-30T04:43:32.802248Z"
    },
    "papermill": {
     "duration": 0.135008,
     "end_time": "2020-11-30T04:43:32.803231",
     "exception": false,
     "start_time": "2020-11-30T04:43:32.668223",
     "status": "completed"
    },
    "tags": []
   },
   "outputs": [
    {
     "name": "stdout",
     "output_type": "stream",
     "text": [
      "Mean:  14560\n",
      "\n",
      "Median:  11989\n",
      "\n",
      "Mode:  8995\n"
     ]
    }
   ],
   "source": [
    "# Mean , Median , Mode of the Target Variable \n",
    "print('Mean: ', round(df.price.mean()))\n",
    "print()\n",
    "print('Median: ', round(df.price.median()))\n",
    "print()\n",
    "print('Mode: ', df.price.mode()[0])"
   ]
  },
  {
   "cell_type": "code",
   "execution_count": 56,
   "metadata": {
    "execution": {
     "iopub.execute_input": "2020-11-30T04:43:32.982336Z",
     "iopub.status.busy": "2020-11-30T04:43:32.981684Z",
     "iopub.status.idle": "2020-11-30T04:43:33.438367Z",
     "shell.execute_reply": "2020-11-30T04:43:33.437808Z"
    },
    "papermill": {
     "duration": 0.553405,
     "end_time": "2020-11-30T04:43:33.438474",
     "exception": false,
     "start_time": "2020-11-30T04:43:32.885069",
     "status": "completed"
    },
    "tags": []
   },
   "outputs": [
    {
     "data": {
      "image/png": "[encoded data removed]",
      "text/plain": [
       "<Figure size 432x216 with 1 Axes>"
      ]
     },
     "metadata": {},
     "output_type": "display_data"
    }
   ],
   "source": [
    "# The mean > median > mode \n",
    "# i.e most of the data is on the lower side \n",
    "plot_histogram(df.price)"
   ]
  },
  {
   "cell_type": "code",
   "execution_count": 57,
   "metadata": {
    "execution": {
     "iopub.execute_input": "2020-11-30T04:43:33.643025Z",
     "iopub.status.busy": "2020-11-30T04:43:33.641519Z",
     "iopub.status.idle": "2020-11-30T04:43:33.954096Z",
     "shell.execute_reply": "2020-11-30T04:43:33.953484Z"
    },
    "papermill": {
     "duration": 0.433401,
     "end_time": "2020-11-30T04:43:33.954200",
     "exception": false,
     "start_time": "2020-11-30T04:43:33.520799",
     "status": "completed"
    },
    "tags": []
   },
   "outputs": [
    {
     "data": {
      "image/png": "[encoded data removed]",
      "text/plain": [
       "<Figure size 720x288 with 1 Axes>"
      ]
     },
     "metadata": {},
     "output_type": "display_data"
    }
   ],
   "source": [
    "# Now , plotting graph \n",
    "plt.figure(figsize=(10, 4))\n",
    "plt.xticks(rotation=90)\n",
    "sns.countplot(df.manufacturer);"
   ]
  },
  {
   "cell_type": "code",
   "execution_count": 58,
   "metadata": {
    "execution": {
     "iopub.execute_input": "2020-11-30T04:43:34.153949Z",
     "iopub.status.busy": "2020-11-30T04:43:34.151074Z",
     "iopub.status.idle": "2020-11-30T04:43:36.174733Z",
     "shell.execute_reply": "2020-11-30T04:43:36.173973Z"
    },
    "papermill": {
     "duration": 2.133827,
     "end_time": "2020-11-30T04:43:36.174876",
     "exception": false,
     "start_time": "2020-11-30T04:43:34.041049",
     "status": "completed"
    },
    "tags": []
   },
   "outputs": [
    {
     "data": {
      "image/png": "[encoded data removed]",
      "text/plain": [
       "<Figure size 1440x1080 with 9 Axes>"
      ]
     },
     "metadata": {},
     "output_type": "display_data"
    }
   ],
   "source": [
    "# Next, let us look at the counts of some of the other categorical variables.\n",
    "categ_x = categorical.copy()\n",
    "categ_x.remove('region')\n",
    "categ_x.remove('state')\n",
    "\n",
    "fig, ax = plt.subplots(3, 3, figsize=(20, 15))\n",
    "for variable, subplot in zip(categ_x, ax.flatten()):\n",
    "    sns.countplot(df[variable], ax=subplot)\n",
    "    for label in subplot.get_xticklabels():\n",
    "        label.set_rotation(90)\n",
    "plt.tight_layout()"
   ]
  },
  {
   "cell_type": "code",
   "execution_count": 59,
   "metadata": {
    "execution": {
     "iopub.execute_input": "2020-11-30T04:43:36.397751Z",
     "iopub.status.busy": "2020-11-30T04:43:36.393577Z",
     "iopub.status.idle": "2020-11-30T04:43:37.485425Z",
     "shell.execute_reply": "2020-11-30T04:43:37.484888Z"
    },
    "papermill": {
     "duration": 1.192196,
     "end_time": "2020-11-30T04:43:37.485526",
     "exception": false,
     "start_time": "2020-11-30T04:43:36.293330",
     "status": "completed"
    },
    "tags": []
   },
   "outputs": [
    {
     "data": {
      "image/png": "[encoded data removed]",
      "text/plain": [
       "<Figure size 720x288 with 1 Axes>"
      ]
     },
     "metadata": {},
     "output_type": "display_data"
    }
   ],
   "source": [
    "# Next, let us look at how prices are interrelated with various categorical variables.\n",
    "plt.figure(figsize=(10, 4))\n",
    "plt.xticks(rotation=90)\n",
    "sns.barplot(x='manufacturer', y='price', data=df);"
   ]
  },
  {
   "cell_type": "code",
   "execution_count": 60,
   "metadata": {
    "execution": {
     "iopub.execute_input": "2020-11-30T04:43:37.666927Z",
     "iopub.status.busy": "2020-11-30T04:43:37.665882Z",
     "iopub.status.idle": "2020-11-30T04:43:37.669521Z",
     "shell.execute_reply": "2020-11-30T04:43:37.668881Z"
    },
    "papermill": {
     "duration": 0.095946,
     "end_time": "2020-11-30T04:43:37.669625",
     "exception": false,
     "start_time": "2020-11-30T04:43:37.573679",
     "status": "completed"
    },
    "tags": []
   },
   "outputs": [],
   "source": [
    "# As the graph above indicates, Ram Trucks lead on the price front."
   ]
  },
  {
   "cell_type": "code",
   "execution_count": 61,
   "metadata": {
    "execution": {
     "iopub.execute_input": "2020-11-30T04:43:37.859819Z",
     "iopub.status.busy": "2020-11-30T04:43:37.855750Z",
     "iopub.status.idle": "2020-11-30T04:43:46.143790Z",
     "shell.execute_reply": "2020-11-30T04:43:46.144489Z"
    },
    "papermill": {
     "duration": 8.387326,
     "end_time": "2020-11-30T04:43:46.144642",
     "exception": false,
     "start_time": "2020-11-30T04:43:37.757316",
     "status": "completed"
    },
    "tags": []
   },
   "outputs": [
    {
     "data": {
      "image/png": "[encoded data removed]",
      "text/plain": [
       "<Figure size 1440x1080 with 9 Axes>"
      ]
     },
     "metadata": {},
     "output_type": "display_data"
    }
   ],
   "source": [
    "fig, ax = plt.subplots(3, 3, figsize=(20, 15))\n",
    "for var, subplot in zip(categ_x, ax.flatten()):\n",
    "    sns.barplot(x=var, y='price', data=df, ax=subplot)\n",
    "    for label in subplot.get_xticklabels():\n",
    "        label.set_rotation(90)\n",
    "plt.tight_layout()"
   ]
  },
  {
   "cell_type": "code",
   "execution_count": 62,
   "metadata": {
    "execution": {
     "iopub.execute_input": "2020-11-30T04:43:46.410033Z",
     "iopub.status.busy": "2020-11-30T04:43:46.409453Z",
     "iopub.status.idle": "2020-11-30T04:43:46.412621Z",
     "shell.execute_reply": "2020-11-30T04:43:46.411998Z"
    },
    "papermill": {
     "duration": 0.137295,
     "end_time": "2020-11-30T04:43:46.412720",
     "exception": false,
     "start_time": "2020-11-30T04:43:46.275425",
     "status": "completed"
    },
    "tags": []
   },
   "outputs": [],
   "source": [
    "# The graphs above show that , new cars, diesel cars, cars that have liens on them, \n",
    "#and cars with four-wheel drives have higher average prices than other types of cars in their respective categories."
   ]
  },
  {
   "cell_type": "code",
   "execution_count": 63,
   "metadata": {
    "execution": {
     "iopub.execute_input": "2020-11-30T04:43:46.594915Z",
     "iopub.status.busy": "2020-11-30T04:43:46.594324Z",
     "iopub.status.idle": "2020-11-30T04:43:48.221886Z",
     "shell.execute_reply": "2020-11-30T04:43:48.221199Z"
    },
    "papermill": {
     "duration": 1.720663,
     "end_time": "2020-11-30T04:43:48.222005",
     "exception": false,
     "start_time": "2020-11-30T04:43:46.501342",
     "status": "completed"
    },
    "tags": []
   },
   "outputs": [
    {
     "data": {
      "image/png": "[encoded data removed]",
      "text/plain": [
       "<Figure size 720x288 with 1 Axes>"
      ]
     },
     "metadata": {},
     "output_type": "display_data"
    }
   ],
   "source": [
    "# Let us also look at how prices vary with year of manufacture\n",
    "year = df.year.astype(np.int64)\n",
    "price = df.price\n",
    "plt.figure(figsize=(10, 4))\n",
    "plt.xticks(rotation=90)\n",
    "sns.barplot(year, price);"
   ]
  },
  {
   "cell_type": "code",
   "execution_count": 64,
   "metadata": {
    "execution": {
     "iopub.execute_input": "2020-11-30T04:43:48.414190Z",
     "iopub.status.busy": "2020-11-30T04:43:48.413570Z",
     "iopub.status.idle": "2020-11-30T04:43:48.416531Z",
     "shell.execute_reply": "2020-11-30T04:43:48.415905Z"
    },
    "papermill": {
     "duration": 0.100369,
     "end_time": "2020-11-30T04:43:48.416629",
     "exception": false,
     "start_time": "2020-11-30T04:43:48.316260",
     "status": "completed"
    },
    "tags": []
   },
   "outputs": [],
   "source": [
    "# The above graph shows that prices increase fairly consistently with year."
   ]
  },
  {
   "cell_type": "code",
   "execution_count": 65,
   "metadata": {
    "execution": {
     "iopub.execute_input": "2020-11-30T04:43:48.632082Z",
     "iopub.status.busy": "2020-11-30T04:43:48.611855Z",
     "iopub.status.idle": "2020-11-30T04:43:56.642740Z",
     "shell.execute_reply": "2020-11-30T04:43:56.642207Z"
    },
    "papermill": {
     "duration": 8.133358,
     "end_time": "2020-11-30T04:43:56.642861",
     "exception": false,
     "start_time": "2020-11-30T04:43:48.509503",
     "status": "completed"
    },
    "tags": []
   },
   "outputs": [
    {
     "data": {
      "image/png": "[encoded data removed]",
      "text/plain": [
       "<Figure size 1440x1080 with 6 Axes>"
      ]
     },
     "metadata": {},
     "output_type": "display_data"
    }
   ],
   "source": [
    "# Now let us plot graphs with 3 variables \n",
    "factor_combos = [('fuel', 'condition'), ('condition', 'size'),\\\n",
    "                 ('fuel', 'cylinders'), ('transmission', 'size'),\\\n",
    "                 ('size', 'drive'), ('drive', 'size')]\n",
    "fig, ax = plt.subplots(3, 2, figsize=(20, 15))\n",
    "for var, subplot in zip(factor_combos, ax.flatten()):\n",
    "    sns.barplot(x=var[0], y='price', hue=var[1], data=df, ax=subplot)\n",
    "    for label in subplot.get_xticklabels():\n",
    "        label.set_rotation(90)\n",
    "plt.tight_layout()"
   ]
  },
  {
   "cell_type": "code",
   "execution_count": 66,
   "metadata": {
    "execution": {
     "iopub.execute_input": "2020-11-30T04:43:56.838564Z",
     "iopub.status.busy": "2020-11-30T04:43:56.837720Z",
     "iopub.status.idle": "2020-11-30T04:43:56.841592Z",
     "shell.execute_reply": "2020-11-30T04:43:56.841036Z"
    },
    "papermill": {
     "duration": 0.10341,
     "end_time": "2020-11-30T04:43:56.841699",
     "exception": false,
     "start_time": "2020-11-30T04:43:56.738289",
     "status": "completed"
    },
    "tags": []
   },
   "outputs": [],
   "source": [
    "# So, all the car characteristics in our dataset have some impact on the target variable, price."
   ]
  },
  {
   "cell_type": "code",
   "execution_count": 67,
   "metadata": {
    "execution": {
     "iopub.execute_input": "2020-11-30T04:43:57.034842Z",
     "iopub.status.busy": "2020-11-30T04:43:57.033968Z",
     "iopub.status.idle": "2020-11-30T04:43:57.037645Z",
     "shell.execute_reply": "2020-11-30T04:43:57.037115Z"
    },
    "papermill": {
     "duration": 0.101286,
     "end_time": "2020-11-30T04:43:57.037752",
     "exception": false,
     "start_time": "2020-11-30T04:43:56.936466",
     "status": "completed"
    },
    "tags": []
   },
   "outputs": [],
   "source": [
    "# Linear Regression model building and Prediction"
   ]
  },
  {
   "cell_type": "code",
   "execution_count": 68,
   "metadata": {
    "execution": {
     "iopub.execute_input": "2020-11-30T04:43:57.238727Z",
     "iopub.status.busy": "2020-11-30T04:43:57.237843Z",
     "iopub.status.idle": "2020-11-30T04:43:57.242039Z",
     "shell.execute_reply": "2020-11-30T04:43:57.241333Z"
    },
    "papermill": {
     "duration": 0.106763,
     "end_time": "2020-11-30T04:43:57.242160",
     "exception": false,
     "start_time": "2020-11-30T04:43:57.135397",
     "status": "completed"
    },
    "tags": []
   },
   "outputs": [],
   "source": [
    "from sklearn.linear_model import LinearRegression\n",
    "from sklearn.metrics import mean_squared_error as MSE\n",
    "from sklearn.model_selection import train_test_split as split\n",
    "import warnings\n",
    "from sys import modules"
   ]
  },
  {
   "cell_type": "code",
   "execution_count": 69,
   "metadata": {
    "execution": {
     "iopub.execute_input": "2020-11-30T04:43:57.527317Z",
     "iopub.status.busy": "2020-11-30T04:43:57.526538Z",
     "iopub.status.idle": "2020-11-30T04:43:57.529576Z",
     "shell.execute_reply": "2020-11-30T04:43:57.528945Z"
    },
    "papermill": {
     "duration": 0.149552,
     "end_time": "2020-11-30T04:43:57.529683",
     "exception": false,
     "start_time": "2020-11-30T04:43:57.380131",
     "status": "completed"
    },
    "tags": []
   },
   "outputs": [],
   "source": [
    "vehicles_df_to_learn = df[['odometer','year','price']]"
   ]
  },
  {
   "cell_type": "code",
   "execution_count": 70,
   "metadata": {
    "execution": {
     "iopub.execute_input": "2020-11-30T04:43:57.759689Z",
     "iopub.status.busy": "2020-11-30T04:43:57.759063Z",
     "iopub.status.idle": "2020-11-30T04:43:57.779503Z",
     "shell.execute_reply": "2020-11-30T04:43:57.780009Z"
    },
    "papermill": {
     "duration": 0.154281,
     "end_time": "2020-11-30T04:43:57.780132",
     "exception": false,
     "start_time": "2020-11-30T04:43:57.625851",
     "status": "completed"
    },
    "tags": []
   },
   "outputs": [
    {
     "data": {
      "text/plain": [
       "(65992, 19)"
      ]
     },
     "execution_count": 70,
     "metadata": {},
     "output_type": "execute_result"
    }
   ],
   "source": [
    "vehicles_df_to_learn = df.dropna()\n",
    "vehicles_df_to_learn.shape"
   ]
  },
  {
   "cell_type": "code",
   "execution_count": 71,
   "metadata": {
    "execution": {
     "iopub.execute_input": "2020-11-30T04:43:57.981355Z",
     "iopub.status.busy": "2020-11-30T04:43:57.977635Z",
     "iopub.status.idle": "2020-11-30T04:43:58.018141Z",
     "shell.execute_reply": "2020-11-30T04:43:58.017550Z"
    },
    "papermill": {
     "duration": 0.141306,
     "end_time": "2020-11-30T04:43:58.018240",
     "exception": false,
     "start_time": "2020-11-30T04:43:57.876934",
     "status": "completed"
    },
    "tags": []
   },
   "outputs": [],
   "source": [
    "# we split the data into \"train\" - 75% and \"test\"- 25%\n",
    "vehicles_df_train, vehicles_df_test = split(vehicles_df_to_learn, train_size=0.75, random_state=4222)"
   ]
  },
  {
   "cell_type": "code",
   "execution_count": 72,
   "metadata": {
    "execution": {
     "iopub.execute_input": "2020-11-30T04:43:58.239673Z",
     "iopub.status.busy": "2020-11-30T04:43:58.239020Z",
     "iopub.status.idle": "2020-11-30T04:43:58.243566Z",
     "shell.execute_reply": "2020-11-30T04:43:58.242832Z"
    },
    "papermill": {
     "duration": 0.131335,
     "end_time": "2020-11-30T04:43:58.243713",
     "exception": false,
     "start_time": "2020-11-30T04:43:58.112378",
     "status": "completed"
    },
    "tags": []
   },
   "outputs": [],
   "source": [
    "X_train = vehicles_df_train[['odometer','year']]\n",
    "y_train = vehicles_df_train['price']"
   ]
  },
  {
   "cell_type": "code",
   "execution_count": 73,
   "metadata": {
    "execution": {
     "iopub.execute_input": "2020-11-30T04:43:58.440689Z",
     "iopub.status.busy": "2020-11-30T04:43:58.440038Z",
     "iopub.status.idle": "2020-11-30T04:43:58.442938Z",
     "shell.execute_reply": "2020-11-30T04:43:58.443437Z"
    },
    "papermill": {
     "duration": 0.1025,
     "end_time": "2020-11-30T04:43:58.443562",
     "exception": false,
     "start_time": "2020-11-30T04:43:58.341062",
     "status": "completed"
    },
    "tags": []
   },
   "outputs": [],
   "source": [
    "cars_lm = LinearRegression(fit_intercept=True)"
   ]
  },
  {
   "cell_type": "code",
   "execution_count": 74,
   "metadata": {
    "collapsed": true,
    "execution": {
     "iopub.execute_input": "2020-11-30T04:43:58.643066Z",
     "iopub.status.busy": "2020-11-30T04:43:58.642488Z",
     "iopub.status.idle": "2020-11-30T04:43:58.684956Z",
     "shell.execute_reply": "2020-11-30T04:43:58.685461Z"
    },
    "papermill": {
     "duration": 0.145947,
     "end_time": "2020-11-30T04:43:58.685597",
     "exception": false,
     "start_time": "2020-11-30T04:43:58.539650",
     "status": "completed"
    },
    "tags": []
   },
   "outputs": [
    {
     "data": {
      "text/plain": [
       "LinearRegression()"
      ]
     },
     "execution_count": 74,
     "metadata": {},
     "output_type": "execute_result"
    }
   ],
   "source": [
    "cars_lm.fit(X_train, y_train)"
   ]
  },
  {
   "cell_type": "code",
   "execution_count": 75,
   "metadata": {
    "execution": {
     "iopub.execute_input": "2020-11-30T04:43:58.886770Z",
     "iopub.status.busy": "2020-11-30T04:43:58.886115Z",
     "iopub.status.idle": "2020-11-30T04:43:58.889751Z",
     "shell.execute_reply": "2020-11-30T04:43:58.890403Z"
    },
    "papermill": {
     "duration": 0.108762,
     "end_time": "2020-11-30T04:43:58.890555",
     "exception": false,
     "start_time": "2020-11-30T04:43:58.781793",
     "status": "completed"
    },
    "tags": []
   },
   "outputs": [
    {
     "name": "stdout",
     "output_type": "stream",
     "text": [
      "The model intercept is: -1914946.1119244632\n",
      "The model coefficients are: -0.051884604572153915\n"
     ]
    }
   ],
   "source": [
    "print(\"The model intercept is: {}\".format(cars_lm.intercept_))\n",
    "print(\"The model coefficients are: {}\".format(cars_lm.coef_[0]))"
   ]
  },
  {
   "cell_type": "code",
   "execution_count": 76,
   "metadata": {
    "execution": {
     "iopub.execute_input": "2020-11-30T04:43:59.177161Z",
     "iopub.status.busy": "2020-11-30T04:43:59.176542Z",
     "iopub.status.idle": "2020-11-30T04:43:59.190218Z",
     "shell.execute_reply": "2020-11-30T04:43:59.189594Z"
    },
    "papermill": {
     "duration": 0.160211,
     "end_time": "2020-11-30T04:43:59.190352",
     "exception": false,
     "start_time": "2020-11-30T04:43:59.030141",
     "status": "completed"
    },
    "tags": []
   },
   "outputs": [
    {
     "data": {
      "text/html": [
       "<div>\n",
       "<style scoped>\n",
       "    .dataframe tbody tr th:only-of-type {\n",
       "        vertical-align: middle;\n",
       "    }\n",
       "\n",
       "    .dataframe tbody tr th {\n",
       "        vertical-align: top;\n",
       "    }\n",
       "\n",
       "    .dataframe thead th {\n",
       "        text-align: right;\n",
       "    }\n",
       "</style>\n",
       "<table border=\"1\" class=\"dataframe\">\n",
       "  <thead>\n",
       "    <tr style=\"text-align: right;\">\n",
       "      <th></th>\n",
       "      <th>odometer</th>\n",
       "      <th>year</th>\n",
       "      <th>Price_prediction</th>\n",
       "    </tr>\n",
       "  </thead>\n",
       "  <tbody>\n",
       "    <tr>\n",
       "      <th>34920</th>\n",
       "      <td>47783.00</td>\n",
       "      <td>2013.0</td>\n",
       "      <td>18121.784412</td>\n",
       "    </tr>\n",
       "    <tr>\n",
       "      <th>2678</th>\n",
       "      <td>71000.00</td>\n",
       "      <td>2002.0</td>\n",
       "      <td>6340.419447</td>\n",
       "    </tr>\n",
       "    <tr>\n",
       "      <th>31626</th>\n",
       "      <td>104983.05</td>\n",
       "      <td>2013.0</td>\n",
       "      <td>15153.982437</td>\n",
       "    </tr>\n",
       "    <tr>\n",
       "      <th>43398</th>\n",
       "      <td>28614.00</td>\n",
       "      <td>2015.0</td>\n",
       "      <td>21039.407688</td>\n",
       "    </tr>\n",
       "    <tr>\n",
       "      <th>52829</th>\n",
       "      <td>31154.00</td>\n",
       "      <td>2017.0</td>\n",
       "      <td>22830.668084</td>\n",
       "    </tr>\n",
       "  </tbody>\n",
       "</table>\n",
       "</div>"
      ],
      "text/plain": [
       "        odometer    year  Price_prediction\n",
       "34920   47783.00  2013.0      18121.784412\n",
       "2678    71000.00  2002.0       6340.419447\n",
       "31626  104983.05  2013.0      15153.982437\n",
       "43398   28614.00  2015.0      21039.407688\n",
       "52829   31154.00  2017.0      22830.668084"
      ]
     },
     "execution_count": 76,
     "metadata": {},
     "output_type": "execute_result"
    }
   ],
   "source": [
    "X_train['Price_prediction'] = cars_lm.predict(X_train)\n",
    "X_train.head()"
   ]
  },
  {
   "cell_type": "code",
   "execution_count": 77,
   "metadata": {
    "execution": {
     "iopub.execute_input": "2020-11-30T04:43:59.391813Z",
     "iopub.status.busy": "2020-11-30T04:43:59.390847Z",
     "iopub.status.idle": "2020-11-30T04:43:59.398139Z",
     "shell.execute_reply": "2020-11-30T04:43:59.395741Z"
    },
    "papermill": {
     "duration": 0.109883,
     "end_time": "2020-11-30T04:43:59.398245",
     "exception": false,
     "start_time": "2020-11-30T04:43:59.288362",
     "status": "completed"
    },
    "tags": []
   },
   "outputs": [
    {
     "name": "stdout",
     "output_type": "stream",
     "text": [
      "RMSE = 8318.45\n"
     ]
    }
   ],
   "source": [
    "cars_train_rmse = np.sqrt(MSE(y_train, X_train['Price_prediction']))\n",
    "print(\"RMSE = {:.2f}\".format(cars_train_rmse))"
   ]
  },
  {
   "cell_type": "code",
   "execution_count": 78,
   "metadata": {
    "execution": {
     "iopub.execute_input": "2020-11-30T04:43:59.597587Z",
     "iopub.status.busy": "2020-11-30T04:43:59.596503Z",
     "iopub.status.idle": "2020-11-30T04:43:59.600163Z",
     "shell.execute_reply": "2020-11-30T04:43:59.599496Z"
    },
    "papermill": {
     "duration": 0.105251,
     "end_time": "2020-11-30T04:43:59.600318",
     "exception": false,
     "start_time": "2020-11-30T04:43:59.495067",
     "status": "completed"
    },
    "tags": []
   },
   "outputs": [],
   "source": [
    "cars_lm_test = LinearRegression()"
   ]
  },
  {
   "cell_type": "code",
   "execution_count": 79,
   "metadata": {
    "execution": {
     "iopub.execute_input": "2020-11-30T04:43:59.893291Z",
     "iopub.status.busy": "2020-11-30T04:43:59.892624Z",
     "iopub.status.idle": "2020-11-30T04:43:59.896608Z",
     "shell.execute_reply": "2020-11-30T04:43:59.895951Z"
    },
    "papermill": {
     "duration": 0.1524,
     "end_time": "2020-11-30T04:43:59.896706",
     "exception": false,
     "start_time": "2020-11-30T04:43:59.744306",
     "status": "completed"
    },
    "tags": []
   },
   "outputs": [],
   "source": [
    "X_test = vehicles_df_test[['odometer','year']]\n",
    "y_test = vehicles_df_test['price']"
   ]
  },
  {
   "cell_type": "code",
   "execution_count": 80,
   "metadata": {
    "execution": {
     "iopub.execute_input": "2020-11-30T04:44:00.099634Z",
     "iopub.status.busy": "2020-11-30T04:44:00.098639Z",
     "iopub.status.idle": "2020-11-30T04:44:00.104627Z",
     "shell.execute_reply": "2020-11-30T04:44:00.103998Z"
    },
    "papermill": {
     "duration": 0.111168,
     "end_time": "2020-11-30T04:44:00.104728",
     "exception": false,
     "start_time": "2020-11-30T04:43:59.993560",
     "status": "completed"
    },
    "tags": []
   },
   "outputs": [
    {
     "data": {
      "text/plain": [
       "LinearRegression()"
      ]
     },
     "execution_count": 80,
     "metadata": {},
     "output_type": "execute_result"
    }
   ],
   "source": [
    "cars_lm_test.fit(X_test, y_test)"
   ]
  },
  {
   "cell_type": "code",
   "execution_count": 81,
   "metadata": {
    "execution": {
     "iopub.execute_input": "2020-11-30T04:44:00.312720Z",
     "iopub.status.busy": "2020-11-30T04:44:00.308388Z",
     "iopub.status.idle": "2020-11-30T04:44:00.321489Z",
     "shell.execute_reply": "2020-11-30T04:44:00.322122Z"
    },
    "papermill": {
     "duration": 0.118964,
     "end_time": "2020-11-30T04:44:00.322308",
     "exception": false,
     "start_time": "2020-11-30T04:44:00.203344",
     "status": "completed"
    },
    "tags": []
   },
   "outputs": [
    {
     "data": {
      "text/html": [
       "<div>\n",
       "<style scoped>\n",
       "    .dataframe tbody tr th:only-of-type {\n",
       "        vertical-align: middle;\n",
       "    }\n",
       "\n",
       "    .dataframe tbody tr th {\n",
       "        vertical-align: top;\n",
       "    }\n",
       "\n",
       "    .dataframe thead th {\n",
       "        text-align: right;\n",
       "    }\n",
       "</style>\n",
       "<table border=\"1\" class=\"dataframe\">\n",
       "  <thead>\n",
       "    <tr style=\"text-align: right;\">\n",
       "      <th></th>\n",
       "      <th>odometer</th>\n",
       "      <th>year</th>\n",
       "      <th>price_prediction</th>\n",
       "    </tr>\n",
       "  </thead>\n",
       "  <tbody>\n",
       "    <tr>\n",
       "      <th>37679</th>\n",
       "      <td>93707.0</td>\n",
       "      <td>2014.0</td>\n",
       "      <td>16676.705924</td>\n",
       "    </tr>\n",
       "    <tr>\n",
       "      <th>12624</th>\n",
       "      <td>215773.0</td>\n",
       "      <td>2008.0</td>\n",
       "      <td>4636.258127</td>\n",
       "    </tr>\n",
       "    <tr>\n",
       "      <th>60577</th>\n",
       "      <td>31640.5</td>\n",
       "      <td>2018.0</td>\n",
       "      <td>23711.133836</td>\n",
       "    </tr>\n",
       "    <tr>\n",
       "      <th>65857</th>\n",
       "      <td>5015.0</td>\n",
       "      <td>2020.0</td>\n",
       "      <td>27001.798468</td>\n",
       "    </tr>\n",
       "    <tr>\n",
       "      <th>36741</th>\n",
       "      <td>102086.0</td>\n",
       "      <td>2014.0</td>\n",
       "      <td>16246.042484</td>\n",
       "    </tr>\n",
       "  </tbody>\n",
       "</table>\n",
       "</div>"
      ],
      "text/plain": [
       "       odometer    year  price_prediction\n",
       "37679   93707.0  2014.0      16676.705924\n",
       "12624  215773.0  2008.0       4636.258127\n",
       "60577   31640.5  2018.0      23711.133836\n",
       "65857    5015.0  2020.0      27001.798468\n",
       "36741  102086.0  2014.0      16246.042484"
      ]
     },
     "execution_count": 81,
     "metadata": {},
     "output_type": "execute_result"
    }
   ],
   "source": [
    "X_test['price_prediction'] = cars_lm_test.predict(X_test)\n",
    "X_test.head()"
   ]
  },
  {
   "cell_type": "code",
   "execution_count": 82,
   "metadata": {
    "execution": {
     "iopub.execute_input": "2020-11-30T04:44:00.616689Z",
     "iopub.status.busy": "2020-11-30T04:44:00.616054Z",
     "iopub.status.idle": "2020-11-30T04:44:00.620244Z",
     "shell.execute_reply": "2020-11-30T04:44:00.619668Z"
    },
    "papermill": {
     "duration": 0.154431,
     "end_time": "2020-11-30T04:44:00.620377",
     "exception": false,
     "start_time": "2020-11-30T04:44:00.465946",
     "status": "completed"
    },
    "tags": []
   },
   "outputs": [
    {
     "name": "stdout",
     "output_type": "stream",
     "text": [
      "RMSE = 8233.54\n"
     ]
    }
   ],
   "source": [
    "cars_test_rmse = np.sqrt(MSE(y_test, X_test['price_prediction']))\n",
    "print(\"RMSE = {:.2f}\".format(cars_test_rmse))"
   ]
  },
  {
   "cell_type": "code",
   "execution_count": 83,
   "metadata": {
    "collapsed": true,
    "execution": {
     "iopub.execute_input": "2020-11-30T04:44:00.824204Z",
     "iopub.status.busy": "2020-11-30T04:44:00.823438Z",
     "iopub.status.idle": "2020-11-30T04:44:00.828400Z",
     "shell.execute_reply": "2020-11-30T04:44:00.827843Z"
    },
    "papermill": {
     "duration": 0.108719,
     "end_time": "2020-11-30T04:44:00.828517",
     "exception": false,
     "start_time": "2020-11-30T04:44:00.719798",
     "status": "completed"
    },
    "tags": []
   },
   "outputs": [
    {
     "data": {
      "text/plain": [
       "'As you can see , the RMSE value of Train and Test are amlmost same . The accuracy of our project is high.'"
      ]
     },
     "execution_count": 83,
     "metadata": {},
     "output_type": "execute_result"
    }
   ],
   "source": [
    "'''As you can see , the RMSE value of Train and Test are amlmost same . The accuracy of our project is high.'''"
   ]
  },
  {
   "cell_type": "code",
   "execution_count": null,
   "metadata": {
    "papermill": {
     "duration": 0.098101,
     "end_time": "2020-11-30T04:44:01.026420",
     "exception": false,
     "start_time": "2020-11-30T04:44:00.928319",
     "status": "completed"
    },
    "tags": []
   },
   "outputs": [],
   "source": []
  },
  {
   "cell_type": "code",
   "execution_count": null,
   "metadata": {
    "papermill": {
     "duration": 0.099508,
     "end_time": "2020-11-30T04:44:01.228641",
     "exception": false,
     "start_time": "2020-11-30T04:44:01.129133",
     "status": "completed"
    },
    "tags": []
   },
   "outputs": [],
   "source": []
  },
  {
   "cell_type": "code",
   "execution_count": null,
   "metadata": {
    "papermill": {
     "duration": 0.098291,
     "end_time": "2020-11-30T04:44:01.427436",
     "exception": false,
     "start_time": "2020-11-30T04:44:01.329145",
     "status": "completed"
    },
    "tags": []
   },
   "outputs": [],
   "source": []
  },
  {
   "cell_type": "code",
   "execution_count": null,
   "metadata": {
    "papermill": {
     "duration": 0.098521,
     "end_time": "2020-11-30T04:44:01.624667",
     "exception": false,
     "start_time": "2020-11-30T04:44:01.526146",
     "status": "completed"
    },
    "tags": []
   },
   "outputs": [],
   "source": []
  },
  {
   "cell_type": "code",
   "execution_count": null,
   "metadata": {
    "papermill": {
     "duration": 0.099013,
     "end_time": "2020-11-30T04:44:01.822893",
     "exception": false,
     "start_time": "2020-11-30T04:44:01.723880",
     "status": "completed"
    },
    "tags": []
   },
   "outputs": [],
   "source": []
  },
  {
   "cell_type": "code",
   "execution_count": null,
   "metadata": {
    "papermill": {
     "duration": 0.097781,
     "end_time": "2020-11-30T04:44:02.021835",
     "exception": false,
     "start_time": "2020-11-30T04:44:01.924054",
     "status": "completed"
    },
    "tags": []
   },
   "outputs": [],
   "source": []
  },
  {
   "cell_type": "code",
   "execution_count": null,
   "metadata": {
    "papermill": {
     "duration": 0.100407,
     "end_time": "2020-11-30T04:44:02.221048",
     "exception": false,
     "start_time": "2020-11-30T04:44:02.120641",
     "status": "completed"
    },
    "tags": []
   },
   "outputs": [],
   "source": []
  },
  {
   "cell_type": "code",
   "execution_count": null,
   "metadata": {
    "papermill": {
     "duration": 0.098242,
     "end_time": "2020-11-30T04:44:02.417496",
     "exception": false,
     "start_time": "2020-11-30T04:44:02.319254",
     "status": "completed"
    },
    "tags": []
   },
   "outputs": [],
   "source": []
  },
  {
   "cell_type": "code",
   "execution_count": null,
   "metadata": {
    "papermill": {
     "duration": 0.099958,
     "end_time": "2020-11-30T04:44:02.616392",
     "exception": false,
     "start_time": "2020-11-30T04:44:02.516434",
     "status": "completed"
    },
    "tags": []
   },
   "outputs": [],
   "source": []
  },
  {
   "cell_type": "code",
   "execution_count": null,
   "metadata": {
    "papermill": {
     "duration": 0.098954,
     "end_time": "2020-11-30T04:44:02.816486",
     "exception": false,
     "start_time": "2020-11-30T04:44:02.717532",
     "status": "completed"
    },
    "tags": []
   },
   "outputs": [],
   "source": []
  },
  {
   "cell_type": "code",
   "execution_count": null,
   "metadata": {
    "papermill": {
     "duration": 0.098978,
     "end_time": "2020-11-30T04:44:03.015142",
     "exception": false,
     "start_time": "2020-11-30T04:44:02.916164",
     "status": "completed"
    },
    "tags": []
   },
   "outputs": [],
   "source": []
  },
  {
   "cell_type": "code",
   "execution_count": null,
   "metadata": {
    "papermill": {
     "duration": 0.098944,
     "end_time": "2020-11-30T04:44:03.213196",
     "exception": false,
     "start_time": "2020-11-30T04:44:03.114252",
     "status": "completed"
    },
    "tags": []
   },
   "outputs": [],
   "source": []
  },
  {
   "cell_type": "code",
   "execution_count": null,
   "metadata": {
    "papermill": {
     "duration": 0.0993,
     "end_time": "2020-11-30T04:44:03.411659",
     "exception": false,
     "start_time": "2020-11-30T04:44:03.312359",
     "status": "completed"
    },
    "tags": []
   },
   "outputs": [],
   "source": []
  },
  {
   "cell_type": "code",
   "execution_count": null,
   "metadata": {
    "papermill": {
     "duration": 0.098391,
     "end_time": "2020-11-30T04:44:03.609117",
     "exception": false,
     "start_time": "2020-11-30T04:44:03.510726",
     "status": "completed"
    },
    "tags": []
   },
   "outputs": [],
   "source": []
  },
  {
   "cell_type": "code",
   "execution_count": null,
   "metadata": {
    "papermill": {
     "duration": 0.098214,
     "end_time": "2020-11-30T04:44:03.806473",
     "exception": false,
     "start_time": "2020-11-30T04:44:03.708259",
     "status": "completed"
    },
    "tags": []
   },
   "outputs": [],
   "source": []
  }
 ],
 "metadata": {
  "kernelspec": {
   "display_name": "Python 3",
   "language": "python",
   "name": "python3"
  },
  "language_info": {
   "codemirror_mode": {
    "name": "ipython",
    "version": 3
   },
   "file_extension": ".py",
   "mimetype": "text/x-python",
   "name": "python",
   "nbconvert_exporter": "python",
   "pygments_lexer": "ipython3",
   "version": "3.7.6"
  },
  "papermill": {
   "duration": 258.091918,
   "end_time": "2020-11-30T04:44:05.375833",
   "environment_variables": {},
   "exception": null,
   "input_path": "__notebook__.ipynb",
   "output_path": "__notebook__.ipynb",
   "parameters": {},
   "start_time": "2020-11-30T04:39:47.283915",
   "version": "2.1.0"
  }
 },
 "nbformat": 4,
 "nbformat_minor": 4
}
